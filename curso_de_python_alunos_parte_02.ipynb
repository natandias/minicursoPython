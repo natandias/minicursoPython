{
  "nbformat": 4,
  "nbformat_minor": 0,
  "metadata": {
    "colab": {
      "name": "curso_de_python_alunos_parte_02.ipynb",
      "provenance": [],
      "collapsed_sections": [
        "VMnpV-FC8OZM",
        "uCoa5g6lX4BP"
      ],
      "toc_visible": true,
      "include_colab_link": true
    },
    "kernelspec": {
      "name": "python3",
      "display_name": "Python 3"
    }
  },
  "cells": [
    {
      "cell_type": "markdown",
      "metadata": {
        "id": "view-in-github",
        "colab_type": "text"
      },
      "source": [
        "<a href=\"https://colab.research.google.com/github/natandias/minicursoPython/blob/master/curso_de_python_alunos_parte_02.ipynb\" target=\"_parent\"><img src=\"https://colab.research.google.com/assets/colab-badge.svg\" alt=\"Open In Colab\"/></a>"
      ]
    },
    {
      "cell_type": "markdown",
      "metadata": {
        "id": "msHYWiHn_2JX",
        "colab_type": "text"
      },
      "source": [
        "# Bem vindos à segunda parte do curso intensivo de\n",
        "\n",
        "\n",
        "![Python logo](https://www.python.org/static/community_logos/python-logo-generic.svg)"
      ]
    },
    {
      "cell_type": "markdown",
      "metadata": {
        "id": "OAV3WDC_Z5Gt",
        "colab_type": "text"
      },
      "source": [
        "##**PANDAS** é uma biblioteca Python que fornece ferramentas de análise de dados e estruturas de dados de alta performance e *fáceis de usar*. Por ser a principal e mais completa biblioteca para estes objetivos, **pandas** é fundamental para análise de dados com Python.\n",
        "\n",
        "\n",
        "---"
      ]
    },
    {
      "cell_type": "markdown",
      "metadata": {
        "id": "VMnpV-FC8OZM",
        "colab_type": "text"
      },
      "source": [
        "## As estruturas de dados primárias nos pandas são implementadas como duas classes:\n",
        "\n",
        "* **Série**: é uma única coluna. Um DataFrame contém uma ou mais séries e um nome para cada série.\n",
        "* **DataFrame**: você pode imaginar como uma tabela de dados relacionais, com linhas e colunas nomeadas.\n",
        "\n"
      ]
    },
    {
      "cell_type": "code",
      "metadata": {
        "id": "wYr6eLbic2mg",
        "colab_type": "code",
        "colab": {}
      },
      "source": [
        "# Importações necessárias\n",
        "import pandas as pd\n",
        "\n",
        "# Pandas já trás várias outras bibliotecas embutidas dentro dele, como MatplotLib e NumPy"
      ],
      "execution_count": 0,
      "outputs": []
    },
    {
      "cell_type": "markdown",
      "metadata": {
        "id": "uCoa5g6lX4BP",
        "colab_type": "text"
      },
      "source": [
        "# Series\n",
        "Uma Series é como um array unidimensional, uma lista de valores. Toda Series possui um índice, o _index_, que dá rótulos a cada elemento da lista. Abaixo criamos uma Series _notas_, o _index_ desta Series é a coluna à esquerda, que vai de 0 a 4 neste caso, que o pandas criou automaticamente, já que não especificamos uma lista de rótulos."
      ]
    },
    {
      "cell_type": "code",
      "metadata": {
        "id": "NpSr_xUuX9U1",
        "colab_type": "code",
        "colab": {
          "base_uri": "https://localhost:8080/",
          "height": 119
        },
        "outputId": "721cfaa8-0825-443c-c62b-708f3efdf779"
      },
      "source": [
        "notas = pd.Series([2,7,5,10,6])\n",
        "notas\n",
        "# serie1 = pd.Series([\"San Francisco\", \"San Jose\", \"Sacrament\"])\n",
        "# serie2 = pd.Series([852469, 1015785, 485199])"
      ],
      "execution_count": 4,
      "outputs": [
        {
          "output_type": "execute_result",
          "data": {
            "text/plain": [
              "0     2\n",
              "1     7\n",
              "2     5\n",
              "3    10\n",
              "4     6\n",
              "dtype: int64"
            ]
          },
          "metadata": {
            "tags": []
          },
          "execution_count": 4
        }
      ]
    },
    {
      "cell_type": "code",
      "metadata": {
        "id": "Rv-dBGbxcprp",
        "colab_type": "code",
        "colab": {
          "base_uri": "https://localhost:8080/",
          "height": 34
        },
        "outputId": "070a806b-a6e6-4b2c-eb85-7e35efe63839"
      },
      "source": [
        "notas.values\n"
      ],
      "execution_count": 9,
      "outputs": [
        {
          "output_type": "execute_result",
          "data": {
            "text/plain": [
              "array([ 2,  7,  5, 10,  6])"
            ]
          },
          "metadata": {
            "tags": []
          },
          "execution_count": 9
        }
      ]
    },
    {
      "cell_type": "code",
      "metadata": {
        "id": "6rdXTlRLgEtP",
        "colab_type": "code",
        "colab": {
          "base_uri": "https://localhost:8080/",
          "height": 34
        },
        "outputId": "5c36c150-3908-4640-b228-d0fcdbb3e93a"
      },
      "source": [
        "notas.index"
      ],
      "execution_count": 6,
      "outputs": [
        {
          "output_type": "execute_result",
          "data": {
            "text/plain": [
              "RangeIndex(start=0, stop=5, step=1)"
            ]
          },
          "metadata": {
            "tags": []
          },
          "execution_count": 6
        }
      ]
    },
    {
      "cell_type": "code",
      "metadata": {
        "id": "iCnPmjgvga70",
        "colab_type": "code",
        "colab": {
          "base_uri": "https://localhost:8080/",
          "height": 34
        },
        "outputId": "d4158815-9963-44b5-824e-c6e0f2f18139"
      },
      "source": [
        "notas[2]"
      ],
      "execution_count": 7,
      "outputs": [
        {
          "output_type": "execute_result",
          "data": {
            "text/plain": [
              "5"
            ]
          },
          "metadata": {
            "tags": []
          },
          "execution_count": 7
        }
      ]
    },
    {
      "cell_type": "code",
      "metadata": {
        "id": "JtnogKMqgNmq",
        "colab_type": "code",
        "colab": {
          "base_uri": "https://localhost:8080/",
          "height": 136
        },
        "outputId": "ea051179-5879-4a44-89db-cbdac3c8bc67"
      },
      "source": [
        "# Definimos então um index\n",
        "notas = pd.Series([7, 7, 5, 10, 5, 5], index=[\"Wilton\", \"Amanda\", \"Hamilton\", \"Júlia\", \"Carla\", \"Samuel\"])\n",
        "notas"
      ],
      "execution_count": 10,
      "outputs": [
        {
          "output_type": "execute_result",
          "data": {
            "text/plain": [
              "Wilton       7\n",
              "Amanda       7\n",
              "Hamilton     5\n",
              "Júlia       10\n",
              "Carla        5\n",
              "Samuel       5\n",
              "dtype: int64"
            ]
          },
          "metadata": {
            "tags": []
          },
          "execution_count": 10
        }
      ]
    },
    {
      "cell_type": "code",
      "metadata": {
        "id": "bxIA5nmJgeRo",
        "colab_type": "code",
        "colab": {}
      },
      "source": [
        "notas[\"Amanda\"]"
      ],
      "execution_count": 0,
      "outputs": []
    },
    {
      "cell_type": "markdown",
      "metadata": {
        "id": "03-NXh7jgyF5",
        "colab_type": "text"
      },
      "source": [
        "### Pandas fornece métodos que fornecem informações estatísticas sobre os valores:"
      ]
    },
    {
      "cell_type": "code",
      "metadata": {
        "id": "IL0hCX3xgylo",
        "colab_type": "code",
        "colab": {
          "base_uri": "https://localhost:8080/",
          "height": 51
        },
        "outputId": "5f4da586-d777-48c7-8d7f-cba0d67ca059"
      },
      "source": [
        "print(\"Média:\", notas.mean())\n",
        "print(\"Desvio padrão:\", notas.std())"
      ],
      "execution_count": 11,
      "outputs": [
        {
          "output_type": "stream",
          "text": [
            "Média: 6.5\n",
            "Desvio padrão: 1.9748417658131499\n"
          ],
          "name": "stdout"
        }
      ]
    },
    {
      "cell_type": "code",
      "metadata": {
        "id": "3jKYkerChKve",
        "colab_type": "code",
        "colab": {
          "base_uri": "https://localhost:8080/",
          "height": 170
        },
        "outputId": "e6bd659b-ecdb-4489-c9c2-5338396a9964"
      },
      "source": [
        "notas.describe()"
      ],
      "execution_count": 12,
      "outputs": [
        {
          "output_type": "execute_result",
          "data": {
            "text/plain": [
              "count     6.000000\n",
              "mean      6.500000\n",
              "std       1.974842\n",
              "min       5.000000\n",
              "25%       5.000000\n",
              "50%       6.000000\n",
              "75%       7.000000\n",
              "max      10.000000\n",
              "dtype: float64"
            ]
          },
          "metadata": {
            "tags": []
          },
          "execution_count": 12
        }
      ]
    },
    {
      "cell_type": "code",
      "metadata": {
        "id": "Y824B4ABhQFd",
        "colab_type": "code",
        "colab": {
          "base_uri": "https://localhost:8080/",
          "height": 269
        },
        "outputId": "6bb379b4-074a-4abd-b523-ea05ac1b27a5"
      },
      "source": [
        "notas_histograma = notas.hist()"
      ],
      "execution_count": 13,
      "outputs": [
        {
          "output_type": "display_data",
          "data": {
            "image/png": "[encoded data removed]",
            "text/plain": [
              "<Figure size 432x288 with 1 Axes>"
            ]
          },
          "metadata": {
            "tags": []
          }
        }
      ]
    },
    {
      "cell_type": "markdown",
      "metadata": {
        "id": "Ov2tqNTmiOgV",
        "colab_type": "text"
      },
      "source": [
        "### Flexibilidade para aplicar expressões e funções matemáticas do numpy diretamente sobre a série:"
      ]
    },
    {
      "cell_type": "code",
      "metadata": {
        "id": "IppiCJZoiN0s",
        "colab_type": "code",
        "colab": {
          "base_uri": "https://localhost:8080/",
          "height": 136
        },
        "outputId": "d1352fdc-5b66-4cc5-f3d1-5e336457019c"
      },
      "source": [
        "# sobre todos os campos numéricos\n",
        "notas**2"
      ],
      "execution_count": 14,
      "outputs": [
        {
          "output_type": "execute_result",
          "data": {
            "text/plain": [
              "Wilton       49\n",
              "Amanda       49\n",
              "Hamilton     25\n",
              "Júlia       100\n",
              "Carla        25\n",
              "Samuel       25\n",
              "dtype: int64"
            ]
          },
          "metadata": {
            "tags": []
          },
          "execution_count": 14
        }
      ]
    },
    {
      "cell_type": "code",
      "metadata": {
        "id": "fLeMdIdOkZw8",
        "colab_type": "code",
        "colab": {
          "base_uri": "https://localhost:8080/",
          "height": 136
        },
        "outputId": "7fd989f6-69f3-4c4c-ac64-f019d5f8b454"
      },
      "source": [
        "import numpy as np\n",
        "\n",
        "np.log(notas) # logaritmo natural"
      ],
      "execution_count": 15,
      "outputs": [
        {
          "output_type": "execute_result",
          "data": {
            "text/plain": [
              "Wilton      1.945910\n",
              "Amanda      1.945910\n",
              "Hamilton    1.609438\n",
              "Júlia       2.302585\n",
              "Carla       1.609438\n",
              "Samuel      1.609438\n",
              "dtype: float64"
            ]
          },
          "metadata": {
            "tags": []
          },
          "execution_count": 15
        }
      ]
    },
    {
      "cell_type": "code",
      "metadata": {
        "id": "nWV-3ytNlSy0",
        "colab_type": "code",
        "colab": {
          "base_uri": "https://localhost:8080/",
          "height": 51
        },
        "outputId": "0475fb96-16e8-4887-c613-c8cb0c0d355a"
      },
      "source": [
        "print(np.max(notas))\n",
        "# notas.max()\n",
        "\n",
        "print(max(notas))"
      ],
      "execution_count": 18,
      "outputs": [
        {
          "output_type": "stream",
          "text": [
            "10\n",
            "10\n"
          ],
          "name": "stdout"
        }
      ]
    },
    {
      "cell_type": "markdown",
      "metadata": {
        "id": "-tJ_gXzhX-EN",
        "colab_type": "text"
      },
      "source": [
        "# DataFrames\n",
        "É uma estrutura bidimensional de dados, como uma planilha."
      ]
    },
    {
      "cell_type": "code",
      "metadata": {
        "id": "0H0INYdzX-cD",
        "colab_type": "code",
        "colab": {
          "base_uri": "https://localhost:8080/",
          "height": 235
        },
        "outputId": "1dfe3b1c-b7da-4755-cc91-bee1f6fd981e"
      },
      "source": [
        "# Usando um dicionário como entrada dos dados\n",
        "df = pd.DataFrame({\"Aluno\" :    [\"Wilton\", \"Amanda\", \"Hamilton\", \"Júlia\", \"Carla\", \"Samuel\"],\n",
        "                   \"Faltas\" :   [3, 1, 2, 1, 2, 2],\n",
        "                   \"Prova\" :    [2, 7, 5, 10, 6, 7],\n",
        "                   \"Seminário\": [8.5, 7.5, 9.0, 7.5, 8.0, 7.5],\n",
        "                   \"Sexo\":      [\"H\", \"M\", \"H\", \"M\", \"M\", \"H\"]\n",
        "                   })\n",
        "df"
      ],
      "execution_count": 19,
      "outputs": [
        {
          "output_type": "execute_result",
          "data": {
            "text/html": [
              "<div>\n",
              "<style scoped>\n",
              "    .dataframe tbody tr th:only-of-type {\n",
              "        vertical-align: middle;\n",
              "    }\n",
              "\n",
              "    .dataframe tbody tr th {\n",
              "        vertical-align: top;\n",
              "    }\n",
              "\n",
              "    .dataframe thead th {\n",
              "        text-align: right;\n",
              "    }\n",
              "</style>\n",
              "<table border=\"1\" class=\"dataframe\">\n",
              "  <thead>\n",
              "    <tr style=\"text-align: right;\">\n",
              "      <th></th>\n",
              "      <th>Aluno</th>\n",
              "      <th>Faltas</th>\n",
              "      <th>Prova</th>\n",
              "      <th>Seminário</th>\n",
              "      <th>Sexo</th>\n",
              "    </tr>\n",
              "  </thead>\n",
              "  <tbody>\n",
              "    <tr>\n",
              "      <th>0</th>\n",
              "      <td>Wilton</td>\n",
              "      <td>3</td>\n",
              "      <td>2</td>\n",
              "      <td>8.5</td>\n",
              "      <td>H</td>\n",
              "    </tr>\n",
              "    <tr>\n",
              "      <th>1</th>\n",
              "      <td>Amanda</td>\n",
              "      <td>1</td>\n",
              "      <td>7</td>\n",
              "      <td>7.5</td>\n",
              "      <td>M</td>\n",
              "    </tr>\n",
              "    <tr>\n",
              "      <th>2</th>\n",
              "      <td>Hamilton</td>\n",
              "      <td>2</td>\n",
              "      <td>5</td>\n",
              "      <td>9.0</td>\n",
              "      <td>H</td>\n",
              "    </tr>\n",
              "    <tr>\n",
              "      <th>3</th>\n",
              "      <td>Júlia</td>\n",
              "      <td>1</td>\n",
              "      <td>10</td>\n",
              "      <td>7.5</td>\n",
              "      <td>M</td>\n",
              "    </tr>\n",
              "    <tr>\n",
              "      <th>4</th>\n",
              "      <td>Carla</td>\n",
              "      <td>2</td>\n",
              "      <td>6</td>\n",
              "      <td>8.0</td>\n",
              "      <td>M</td>\n",
              "    </tr>\n",
              "    <tr>\n",
              "      <th>5</th>\n",
              "      <td>Samuel</td>\n",
              "      <td>2</td>\n",
              "      <td>7</td>\n",
              "      <td>7.5</td>\n",
              "      <td>H</td>\n",
              "    </tr>\n",
              "  </tbody>\n",
              "</table>\n",
              "</div>"
            ],
            "text/plain": [
              "      Aluno  Faltas  Prova  Seminário Sexo\n",
              "0    Wilton       3      2        8.5    H\n",
              "1    Amanda       1      7        7.5    M\n",
              "2  Hamilton       2      5        9.0    H\n",
              "3     Júlia       1     10        7.5    M\n",
              "4     Carla       2      6        8.0    M\n",
              "5    Samuel       2      7        7.5    H"
            ]
          },
          "metadata": {
            "tags": []
          },
          "execution_count": 19
        }
      ]
    },
    {
      "cell_type": "code",
      "metadata": {
        "id": "3rCv_wCnmkH-",
        "colab_type": "code",
        "colab": {
          "base_uri": "https://localhost:8080/",
          "height": 119
        },
        "outputId": "2cbaec9a-700b-4eb1-eb05-38a65d84b1b4"
      },
      "source": [
        "# Qual o tipo de cada coluna?\n",
        "df.dtypes"
      ],
      "execution_count": 20,
      "outputs": [
        {
          "output_type": "execute_result",
          "data": {
            "text/plain": [
              "Aluno         object\n",
              "Faltas         int64\n",
              "Prova          int64\n",
              "Seminário    float64\n",
              "Sexo          object\n",
              "dtype: object"
            ]
          },
          "metadata": {
            "tags": []
          },
          "execution_count": 20
        }
      ]
    },
    {
      "cell_type": "code",
      "metadata": {
        "id": "bh-rJUJ2nSaq",
        "colab_type": "code",
        "colab": {
          "base_uri": "https://localhost:8080/",
          "height": 34
        },
        "outputId": "2f3aafec-a7af-44b8-8adb-ad0665c0ff6c"
      },
      "source": [
        "df.columns"
      ],
      "execution_count": 21,
      "outputs": [
        {
          "output_type": "execute_result",
          "data": {
            "text/plain": [
              "Index(['Aluno', 'Faltas', 'Prova', 'Seminário', 'Sexo'], dtype='object')"
            ]
          },
          "metadata": {
            "tags": []
          },
          "execution_count": 21
        }
      ]
    },
    {
      "cell_type": "code",
      "metadata": {
        "id": "hKYQRDoQndhb",
        "colab_type": "code",
        "colab": {
          "base_uri": "https://localhost:8080/",
          "height": 136
        },
        "outputId": "aee55973-b03e-4b00-bf20-a5ae0a6b9e8e"
      },
      "source": [
        "df[\"Aluno\"]"
      ],
      "execution_count": 22,
      "outputs": [
        {
          "output_type": "execute_result",
          "data": {
            "text/plain": [
              "0      Wilton\n",
              "1      Amanda\n",
              "2    Hamilton\n",
              "3       Júlia\n",
              "4       Carla\n",
              "5      Samuel\n",
              "Name: Aluno, dtype: object"
            ]
          },
          "metadata": {
            "tags": []
          },
          "execution_count": 22
        }
      ]
    },
    {
      "cell_type": "code",
      "metadata": {
        "id": "egQve4YUnrAr",
        "colab_type": "code",
        "colab": {
          "base_uri": "https://localhost:8080/",
          "height": 235
        },
        "outputId": "7b69ce77-3d73-411f-e281-8d52654b0291"
      },
      "source": [
        "df.sort_values(by=\"Seminário\", ascending=False)"
      ],
      "execution_count": 25,
      "outputs": [
        {
          "output_type": "execute_result",
          "data": {
            "text/html": [
              "<div>\n",
              "<style scoped>\n",
              "    .dataframe tbody tr th:only-of-type {\n",
              "        vertical-align: middle;\n",
              "    }\n",
              "\n",
              "    .dataframe tbody tr th {\n",
              "        vertical-align: top;\n",
              "    }\n",
              "\n",
              "    .dataframe thead th {\n",
              "        text-align: right;\n",
              "    }\n",
              "</style>\n",
              "<table border=\"1\" class=\"dataframe\">\n",
              "  <thead>\n",
              "    <tr style=\"text-align: right;\">\n",
              "      <th></th>\n",
              "      <th>Aluno</th>\n",
              "      <th>Faltas</th>\n",
              "      <th>Prova</th>\n",
              "      <th>Seminário</th>\n",
              "      <th>Sexo</th>\n",
              "    </tr>\n",
              "  </thead>\n",
              "  <tbody>\n",
              "    <tr>\n",
              "      <th>2</th>\n",
              "      <td>Hamilton</td>\n",
              "      <td>2</td>\n",
              "      <td>5</td>\n",
              "      <td>9.0</td>\n",
              "      <td>H</td>\n",
              "    </tr>\n",
              "    <tr>\n",
              "      <th>0</th>\n",
              "      <td>Wilton</td>\n",
              "      <td>3</td>\n",
              "      <td>2</td>\n",
              "      <td>8.5</td>\n",
              "      <td>H</td>\n",
              "    </tr>\n",
              "    <tr>\n",
              "      <th>4</th>\n",
              "      <td>Carla</td>\n",
              "      <td>2</td>\n",
              "      <td>6</td>\n",
              "      <td>8.0</td>\n",
              "      <td>M</td>\n",
              "    </tr>\n",
              "    <tr>\n",
              "      <th>1</th>\n",
              "      <td>Amanda</td>\n",
              "      <td>1</td>\n",
              "      <td>7</td>\n",
              "      <td>7.5</td>\n",
              "      <td>M</td>\n",
              "    </tr>\n",
              "    <tr>\n",
              "      <th>3</th>\n",
              "      <td>Júlia</td>\n",
              "      <td>1</td>\n",
              "      <td>10</td>\n",
              "      <td>7.5</td>\n",
              "      <td>M</td>\n",
              "    </tr>\n",
              "    <tr>\n",
              "      <th>5</th>\n",
              "      <td>Samuel</td>\n",
              "      <td>2</td>\n",
              "      <td>7</td>\n",
              "      <td>7.5</td>\n",
              "      <td>H</td>\n",
              "    </tr>\n",
              "  </tbody>\n",
              "</table>\n",
              "</div>"
            ],
            "text/plain": [
              "      Aluno  Faltas  Prova  Seminário Sexo\n",
              "2  Hamilton       2      5        9.0    H\n",
              "0    Wilton       3      2        8.5    H\n",
              "4     Carla       2      6        8.0    M\n",
              "1    Amanda       1      7        7.5    M\n",
              "3     Júlia       1     10        7.5    M\n",
              "5    Samuel       2      7        7.5    H"
            ]
          },
          "metadata": {
            "tags": []
          },
          "execution_count": 25
        }
      ]
    },
    {
      "cell_type": "code",
      "metadata": {
        "id": "K5yCY6armeCz",
        "colab_type": "code",
        "colab": {
          "base_uri": "https://localhost:8080/",
          "height": 297
        },
        "outputId": "cc3ab19b-4da6-4727-f06e-819de01ae223"
      },
      "source": [
        "df.describe()"
      ],
      "execution_count": 26,
      "outputs": [
        {
          "output_type": "execute_result",
          "data": {
            "text/html": [
              "<div>\n",
              "<style scoped>\n",
              "    .dataframe tbody tr th:only-of-type {\n",
              "        vertical-align: middle;\n",
              "    }\n",
              "\n",
              "    .dataframe tbody tr th {\n",
              "        vertical-align: top;\n",
              "    }\n",
              "\n",
              "    .dataframe thead th {\n",
              "        text-align: right;\n",
              "    }\n",
              "</style>\n",
              "<table border=\"1\" class=\"dataframe\">\n",
              "  <thead>\n",
              "    <tr style=\"text-align: right;\">\n",
              "      <th></th>\n",
              "      <th>Faltas</th>\n",
              "      <th>Prova</th>\n",
              "      <th>Seminário</th>\n",
              "    </tr>\n",
              "  </thead>\n",
              "  <tbody>\n",
              "    <tr>\n",
              "      <th>count</th>\n",
              "      <td>6.000000</td>\n",
              "      <td>6.000000</td>\n",
              "      <td>6.000000</td>\n",
              "    </tr>\n",
              "    <tr>\n",
              "      <th>mean</th>\n",
              "      <td>1.833333</td>\n",
              "      <td>6.166667</td>\n",
              "      <td>8.000000</td>\n",
              "    </tr>\n",
              "    <tr>\n",
              "      <th>std</th>\n",
              "      <td>0.752773</td>\n",
              "      <td>2.639444</td>\n",
              "      <td>0.632456</td>\n",
              "    </tr>\n",
              "    <tr>\n",
              "      <th>min</th>\n",
              "      <td>1.000000</td>\n",
              "      <td>2.000000</td>\n",
              "      <td>7.500000</td>\n",
              "    </tr>\n",
              "    <tr>\n",
              "      <th>25%</th>\n",
              "      <td>1.250000</td>\n",
              "      <td>5.250000</td>\n",
              "      <td>7.500000</td>\n",
              "    </tr>\n",
              "    <tr>\n",
              "      <th>50%</th>\n",
              "      <td>2.000000</td>\n",
              "      <td>6.500000</td>\n",
              "      <td>7.750000</td>\n",
              "    </tr>\n",
              "    <tr>\n",
              "      <th>75%</th>\n",
              "      <td>2.000000</td>\n",
              "      <td>7.000000</td>\n",
              "      <td>8.375000</td>\n",
              "    </tr>\n",
              "    <tr>\n",
              "      <th>max</th>\n",
              "      <td>3.000000</td>\n",
              "      <td>10.000000</td>\n",
              "      <td>9.000000</td>\n",
              "    </tr>\n",
              "  </tbody>\n",
              "</table>\n",
              "</div>"
            ],
            "text/plain": [
              "         Faltas      Prova  Seminário\n",
              "count  6.000000   6.000000   6.000000\n",
              "mean   1.833333   6.166667   8.000000\n",
              "std    0.752773   2.639444   0.632456\n",
              "min    1.000000   2.000000   7.500000\n",
              "25%    1.250000   5.250000   7.500000\n",
              "50%    2.000000   6.500000   7.750000\n",
              "75%    2.000000   7.000000   8.375000\n",
              "max    3.000000  10.000000   9.000000"
            ]
          },
          "metadata": {
            "tags": []
          },
          "execution_count": 26
        }
      ]
    },
    {
      "cell_type": "code",
      "metadata": {
        "id": "z9PfDlQpozXK",
        "colab_type": "code",
        "colab": {
          "base_uri": "https://localhost:8080/",
          "height": 119
        },
        "outputId": "cd29697f-edf3-460b-9d62-dfb0dca4737d"
      },
      "source": [
        "# Selecionar pelo index\n",
        "df.loc[2]  # Linha"
      ],
      "execution_count": 27,
      "outputs": [
        {
          "output_type": "execute_result",
          "data": {
            "text/plain": [
              "Aluno        Hamilton\n",
              "Faltas              2\n",
              "Prova               5\n",
              "Seminário           9\n",
              "Sexo                H\n",
              "Name: 2, dtype: object"
            ]
          },
          "metadata": {
            "tags": []
          },
          "execution_count": 27
        }
      ]
    },
    {
      "cell_type": "code",
      "metadata": {
        "id": "d-4sU7zyqbTH",
        "colab_type": "code",
        "colab": {
          "base_uri": "https://localhost:8080/",
          "height": 34
        },
        "outputId": "b2183745-e27d-44ac-c117-7505fa17298f"
      },
      "source": [
        "df.loc[2, \"Aluno\"]  # Célula"
      ],
      "execution_count": 28,
      "outputs": [
        {
          "output_type": "execute_result",
          "data": {
            "text/plain": [
              "'Hamilton'"
            ]
          },
          "metadata": {
            "tags": []
          },
          "execution_count": 28
        }
      ]
    },
    {
      "cell_type": "code",
      "metadata": {
        "id": "GRdSuU2xsvyP",
        "colab_type": "code",
        "colab": {
          "base_uri": "https://localhost:8080/",
          "height": 235
        },
        "outputId": "01be7efd-2f1e-48db-fb67-af1d60f5cc6a"
      },
      "source": [
        "df.loc[df.index, [\"Aluno\", \"Seminário\"]]"
      ],
      "execution_count": 29,
      "outputs": [
        {
          "output_type": "execute_result",
          "data": {
            "text/html": [
              "<div>\n",
              "<style scoped>\n",
              "    .dataframe tbody tr th:only-of-type {\n",
              "        vertical-align: middle;\n",
              "    }\n",
              "\n",
              "    .dataframe tbody tr th {\n",
              "        vertical-align: top;\n",
              "    }\n",
              "\n",
              "    .dataframe thead th {\n",
              "        text-align: right;\n",
              "    }\n",
              "</style>\n",
              "<table border=\"1\" class=\"dataframe\">\n",
              "  <thead>\n",
              "    <tr style=\"text-align: right;\">\n",
              "      <th></th>\n",
              "      <th>Aluno</th>\n",
              "      <th>Seminário</th>\n",
              "    </tr>\n",
              "  </thead>\n",
              "  <tbody>\n",
              "    <tr>\n",
              "      <th>0</th>\n",
              "      <td>Wilton</td>\n",
              "      <td>8.5</td>\n",
              "    </tr>\n",
              "    <tr>\n",
              "      <th>1</th>\n",
              "      <td>Amanda</td>\n",
              "      <td>7.5</td>\n",
              "    </tr>\n",
              "    <tr>\n",
              "      <th>2</th>\n",
              "      <td>Hamilton</td>\n",
              "      <td>9.0</td>\n",
              "    </tr>\n",
              "    <tr>\n",
              "      <th>3</th>\n",
              "      <td>Júlia</td>\n",
              "      <td>7.5</td>\n",
              "    </tr>\n",
              "    <tr>\n",
              "      <th>4</th>\n",
              "      <td>Carla</td>\n",
              "      <td>8.0</td>\n",
              "    </tr>\n",
              "    <tr>\n",
              "      <th>5</th>\n",
              "      <td>Samuel</td>\n",
              "      <td>7.5</td>\n",
              "    </tr>\n",
              "  </tbody>\n",
              "</table>\n",
              "</div>"
            ],
            "text/plain": [
              "      Aluno  Seminário\n",
              "0    Wilton        8.5\n",
              "1    Amanda        7.5\n",
              "2  Hamilton        9.0\n",
              "3     Júlia        7.5\n",
              "4     Carla        8.0\n",
              "5    Samuel        7.5"
            ]
          },
          "metadata": {
            "tags": []
          },
          "execution_count": 29
        }
      ]
    },
    {
      "cell_type": "code",
      "metadata": {
        "id": "lBgxAcCStVGz",
        "colab_type": "code",
        "colab": {}
      },
      "source": [
        "df.loc[df.index, [\"Aluno\", \"Seminário\"]].sort_values(by=\"Seminário\", ascending=False)"
      ],
      "execution_count": 0,
      "outputs": []
    },
    {
      "cell_type": "code",
      "metadata": {
        "id": "Z_6xIjSbthaY",
        "colab_type": "code",
        "colab": {
          "base_uri": "https://localhost:8080/",
          "height": 111
        },
        "outputId": "52fb40fa-c93d-4a39-bcfb-80463830fdc2"
      },
      "source": [
        "# Critério de seleção\n",
        "df[df[\"Seminário\"] > 8.0]\n",
        "# df[\"Seminário\"] > 8.0"
      ],
      "execution_count": 31,
      "outputs": [
        {
          "output_type": "execute_result",
          "data": {
            "text/html": [
              "<div>\n",
              "<style scoped>\n",
              "    .dataframe tbody tr th:only-of-type {\n",
              "        vertical-align: middle;\n",
              "    }\n",
              "\n",
              "    .dataframe tbody tr th {\n",
              "        vertical-align: top;\n",
              "    }\n",
              "\n",
              "    .dataframe thead th {\n",
              "        text-align: right;\n",
              "    }\n",
              "</style>\n",
              "<table border=\"1\" class=\"dataframe\">\n",
              "  <thead>\n",
              "    <tr style=\"text-align: right;\">\n",
              "      <th></th>\n",
              "      <th>Aluno</th>\n",
              "      <th>Faltas</th>\n",
              "      <th>Prova</th>\n",
              "      <th>Seminário</th>\n",
              "      <th>Sexo</th>\n",
              "    </tr>\n",
              "  </thead>\n",
              "  <tbody>\n",
              "    <tr>\n",
              "      <th>0</th>\n",
              "      <td>Wilton</td>\n",
              "      <td>3</td>\n",
              "      <td>2</td>\n",
              "      <td>8.5</td>\n",
              "      <td>H</td>\n",
              "    </tr>\n",
              "    <tr>\n",
              "      <th>2</th>\n",
              "      <td>Hamilton</td>\n",
              "      <td>2</td>\n",
              "      <td>5</td>\n",
              "      <td>9.0</td>\n",
              "      <td>H</td>\n",
              "    </tr>\n",
              "  </tbody>\n",
              "</table>\n",
              "</div>"
            ],
            "text/plain": [
              "      Aluno  Faltas  Prova  Seminário Sexo\n",
              "0    Wilton       3      2        8.5    H\n",
              "2  Hamilton       2      5        9.0    H"
            ]
          },
          "metadata": {
            "tags": []
          },
          "execution_count": 31
        }
      ]
    },
    {
      "cell_type": "code",
      "metadata": {
        "id": "VWu6-j9Xt0IC",
        "colab_type": "code",
        "colab": {
          "base_uri": "https://localhost:8080/",
          "height": 142
        },
        "outputId": "f11b21a7-609d-4760-b508-ac3099cb706e"
      },
      "source": [
        "df[(df[\"Seminário\"] > 7.0) & (df[\"Prova\"] >= 7)] # & é um operador bitwise sobre as condições True e False (1 e 0)"
      ],
      "execution_count": 30,
      "outputs": [
        {
          "output_type": "execute_result",
          "data": {
            "text/html": [
              "<div>\n",
              "<style scoped>\n",
              "    .dataframe tbody tr th:only-of-type {\n",
              "        vertical-align: middle;\n",
              "    }\n",
              "\n",
              "    .dataframe tbody tr th {\n",
              "        vertical-align: top;\n",
              "    }\n",
              "\n",
              "    .dataframe thead th {\n",
              "        text-align: right;\n",
              "    }\n",
              "</style>\n",
              "<table border=\"1\" class=\"dataframe\">\n",
              "  <thead>\n",
              "    <tr style=\"text-align: right;\">\n",
              "      <th></th>\n",
              "      <th>Aluno</th>\n",
              "      <th>Faltas</th>\n",
              "      <th>Prova</th>\n",
              "      <th>Seminário</th>\n",
              "      <th>Sexo</th>\n",
              "    </tr>\n",
              "  </thead>\n",
              "  <tbody>\n",
              "    <tr>\n",
              "      <th>1</th>\n",
              "      <td>Amanda</td>\n",
              "      <td>1</td>\n",
              "      <td>7</td>\n",
              "      <td>7.5</td>\n",
              "      <td>M</td>\n",
              "    </tr>\n",
              "    <tr>\n",
              "      <th>3</th>\n",
              "      <td>Júlia</td>\n",
              "      <td>1</td>\n",
              "      <td>10</td>\n",
              "      <td>7.5</td>\n",
              "      <td>M</td>\n",
              "    </tr>\n",
              "    <tr>\n",
              "      <th>5</th>\n",
              "      <td>Samuel</td>\n",
              "      <td>2</td>\n",
              "      <td>7</td>\n",
              "      <td>7.5</td>\n",
              "      <td>H</td>\n",
              "    </tr>\n",
              "  </tbody>\n",
              "</table>\n",
              "</div>"
            ],
            "text/plain": [
              "    Aluno  Faltas  Prova  Seminário Sexo\n",
              "1  Amanda       1      7        7.5    M\n",
              "3   Júlia       1     10        7.5    M\n",
              "5  Samuel       2      7        7.5    H"
            ]
          },
          "metadata": {
            "tags": []
          },
          "execution_count": 30
        }
      ]
    },
    {
      "cell_type": "code",
      "metadata": {
        "id": "ujTrRQvMvTcM",
        "colab_type": "code",
        "colab": {
          "base_uri": "https://localhost:8080/",
          "height": 315
        },
        "outputId": "f6b8af32-c9eb-4e0a-ea93-95c0e77db764"
      },
      "source": [
        "df.hist(column=\"Faltas\")"
      ],
      "execution_count": 32,
      "outputs": [
        {
          "output_type": "execute_result",
          "data": {
            "text/plain": [
              "array([[<matplotlib.axes._subplots.AxesSubplot object at 0x7f995796c278>]],\n",
              "      dtype=object)"
            ]
          },
          "metadata": {
            "tags": []
          },
          "execution_count": 32
        },
        {
          "output_type": "display_data",
          "data": {
            "image/png": "[encoded data removed]",
            "text/plain": [
              "<Figure size 432x288 with 1 Axes>"
            ]
          },
          "metadata": {
            "tags": []
          }
        }
      ]
    },
    {
      "cell_type": "code",
      "metadata": {
        "id": "y-U4ZizLSa1A",
        "colab_type": "code",
        "colab": {
          "base_uri": "https://localhost:8080/",
          "height": 320
        },
        "outputId": "b8be05d2-53ec-4231-e951-3108174ab0da"
      },
      "source": [
        "import matplotlib as plt\n",
        "\n",
        "plt.pyplot.hist(df[\"Faltas\"], color='green')"
      ],
      "execution_count": 40,
      "outputs": [
        {
          "output_type": "execute_result",
          "data": {
            "text/plain": [
              "(array([2., 0., 0., 0., 0., 3., 0., 0., 0., 1.]),\n",
              " array([1. , 1.2, 1.4, 1.6, 1.8, 2. , 2.2, 2.4, 2.6, 2.8, 3. ]),\n",
              " <a list of 10 Patch objects>)"
            ]
          },
          "metadata": {
            "tags": []
          },
          "execution_count": 40
        },
        {
          "output_type": "display_data",
          "data": {
            "image/png": "[encoded data removed]",
            "text/plain": [
              "<Figure size 432x288 with 1 Axes>"
            ]
          },
          "metadata": {
            "tags": []
          }
        }
      ]
    },
    {
      "cell_type": "code",
      "metadata": {
        "id": "d4OanQFQTLCJ",
        "colab_type": "code",
        "colab": {
          "base_uri": "https://localhost:8080/",
          "height": 282
        },
        "outputId": "3db46ca9-28d7-4e93-8c4d-f60967acb10d"
      },
      "source": [
        "df.plot.bar()"
      ],
      "execution_count": 41,
      "outputs": [
        {
          "output_type": "execute_result",
          "data": {
            "text/plain": [
              "<matplotlib.axes._subplots.AxesSubplot at 0x7f99571b8860>"
            ]
          },
          "metadata": {
            "tags": []
          },
          "execution_count": 41
        },
        {
          "output_type": "display_data",
          "data": {
            "image/png": "[encoded data removed]",
            "text/plain": [
              "<Figure size 432x288 with 1 Axes>"
            ]
          },
          "metadata": {
            "tags": []
          }
        }
      ]
    },
    {
      "cell_type": "code",
      "metadata": {
        "id": "PFXPT6kzU5zg",
        "colab_type": "code",
        "colab": {
          "base_uri": "https://localhost:8080/",
          "height": 300
        },
        "outputId": "9e3b24b8-7ada-4efe-f96f-21a59621587c"
      },
      "source": [
        "df.plot.line(x=\"Aluno\")"
      ],
      "execution_count": 42,
      "outputs": [
        {
          "output_type": "execute_result",
          "data": {
            "text/plain": [
              "<matplotlib.axes._subplots.AxesSubplot at 0x7f9957146a90>"
            ]
          },
          "metadata": {
            "tags": []
          },
          "execution_count": 42
        },
        {
          "output_type": "display_data",
          "data": {
            "image/png": "[encoded data removed]",
            "text/plain": [
              "<Figure size 432x288 with 1 Axes>"
            ]
          },
          "metadata": {
            "tags": []
          }
        }
      ]
    },
    {
      "cell_type": "code",
      "metadata": {
        "id": "c1Rc5cbTUVlh",
        "colab_type": "code",
        "colab": {}
      },
      "source": [
        "df.plot.area(x=\"Aluno\", y=[\"Prova\", \"Seminário\"])\n",
        "df"
      ],
      "execution_count": 0,
      "outputs": []
    },
    {
      "cell_type": "markdown",
      "metadata": {
        "colab_type": "text",
        "id": "qkewbY1ep6kD"
      },
      "source": [
        "# Pandas\n",
        "### Vimos como manipular dados que foram criados em tempo de execução.\n",
        "Acontece que, na maioria das vezes, queremos analisar dados que já estão prontos e disponíveis."
      ]
    },
    {
      "cell_type": "markdown",
      "metadata": {
        "id": "ayGrqImBTlAI",
        "colab_type": "text"
      },
      "source": [
        "## Sites que fornecem datasets para download:\n",
        "* http://www.dados.df.gov.br/\n",
        "* https://brasil.io/datasets\n",
        "* http://dados.gov.br/dataset\n",
        "* https://dadosabertos.camara.leg.br/\n",
        "* http://www.transparencia.mg.gov.br/dados-abertos"
      ]
    },
    {
      "cell_type": "code",
      "metadata": {
        "id": "GikZ9kdQ_3bw",
        "colab_type": "code",
        "colab": {}
      },
      "source": [
        "import pandas as pd"
      ],
      "execution_count": 0,
      "outputs": []
    },
    {
      "cell_type": "markdown",
      "metadata": {
        "id": "2HGb9jukzCdz",
        "colab_type": "text"
      },
      "source": [
        "# Importação de dataframes"
      ]
    },
    {
      "cell_type": "code",
      "metadata": {
        "id": "uQ0E9hro0Xnz",
        "colab_type": "code",
        "colab": {}
      },
      "source": [
        "# A exclamação antes executa como comando do console\n",
        "!pip3 install wget"
      ],
      "execution_count": 0,
      "outputs": []
    },
    {
      "cell_type": "code",
      "metadata": {
        "id": "67Qxzw16Zn4Q",
        "colab_type": "code",
        "colab": {}
      },
      "source": [
        "# Baixar o arquivo primeiro\n",
        "!pip3 install wget\n",
        "\n",
        "import wget\n",
        "\n",
        "url = \"https://github.com/alexaldr/curso_de_python/blob/master/dataframes/cursos-prouni.csv?raw=true\"\n",
        "\n",
        "file_name = wget.download(url, \"dataframe_prouni.csv\")\n",
        "\n",
        "# ler o arquivo para um dataframe\n",
        "df2 = pd.read_csv(\"dataframe_prouni.csv\")\n",
        "df2.sample(3)"
      ],
      "execution_count": 0,
      "outputs": []
    },
    {
      "cell_type": "code",
      "metadata": {
        "id": "-QblB1BlAg0W",
        "colab_type": "code",
        "colab": {
          "base_uri": "https://localhost:8080/",
          "height": 281
        },
        "outputId": "caadae58-8c5a-43e0-fdf9-857482a9641a"
      },
      "source": [
        "# dataframe que vamos trabalhar \n",
        "df = pd.read_csv(\"https://github.com/alexaldr/curso_de_python/blob/master/dataframes/capes-bolsas.zip?raw=true\",\n",
        "                 sep=\",\",\n",
        "                 compression=\"zip\"                 \n",
        "                 )\n",
        "# pd.read_csv\n",
        "# pd.read_excel\n",
        "# pd.read_html\n",
        "# pd.read_json\n",
        "# pd.read_sql\n",
        "df.sample(3)"
      ],
      "execution_count": 59,
      "outputs": [
        {
          "output_type": "execute_result",
          "data": {
            "text/html": [
              "<div>\n",
              "<style scoped>\n",
              "    .dataframe tbody tr th:only-of-type {\n",
              "        vertical-align: middle;\n",
              "    }\n",
              "\n",
              "    .dataframe tbody tr th {\n",
              "        vertical-align: top;\n",
              "    }\n",
              "\n",
              "    .dataframe thead th {\n",
              "        text-align: right;\n",
              "    }\n",
              "</style>\n",
              "<table border=\"1\" class=\"dataframe\">\n",
              "  <thead>\n",
              "    <tr style=\"text-align: right;\">\n",
              "      <th></th>\n",
              "      <th>Unnamed: 0</th>\n",
              "      <th>Ano</th>\n",
              "      <th>UF</th>\n",
              "      <th>Município</th>\n",
              "      <th>Região</th>\n",
              "      <th>Código Programa</th>\n",
              "      <th>Programa Fomento</th>\n",
              "      <th>IES</th>\n",
              "      <th>Status Jurídico</th>\n",
              "      <th>Programa</th>\n",
              "      <th>Área Avaliação</th>\n",
              "      <th>Área Conhecimento</th>\n",
              "      <th>Grande Área</th>\n",
              "      <th>Codigo IES</th>\n",
              "      <th>Coordenador Geral IsF</th>\n",
              "      <th>Coordenador Pedagógico IsF</th>\n",
              "      <th>DOUTORADO PLENO</th>\n",
              "      <th>Iniciação Científica</th>\n",
              "      <th>JOVENS TALENTOS - A</th>\n",
              "      <th>JOVENS TALENTOS - B</th>\n",
              "      <th>MESTRADO</th>\n",
              "      <th>MESTRADO PROFISSIONAL</th>\n",
              "      <th>PESQUISADOR VISITANTE ESPECIAL</th>\n",
              "      <th>PROF VISITANTE NACIONAL SÊNIOR</th>\n",
              "      <th>PROFESSOR VISITANTE EXTERIOR PLENO</th>\n",
              "      <th>PROFESSOR VISITANTE EXTERIOR SENIOR</th>\n",
              "      <th>Professor IsF</th>\n",
              "      <th>PÓS-DOUTORADO</th>\n",
              "      <th>Total Linha</th>\n",
              "    </tr>\n",
              "  </thead>\n",
              "  <tbody>\n",
              "    <tr>\n",
              "      <th>21765</th>\n",
              "      <td>21766</td>\n",
              "      <td>2016</td>\n",
              "      <td>BA</td>\n",
              "      <td>SALVADOR</td>\n",
              "      <td>NORDESTE</td>\n",
              "      <td>28001010036P7</td>\n",
              "      <td>DS</td>\n",
              "      <td>UFBA</td>\n",
              "      <td>Federal</td>\n",
              "      <td>CIÊNCIA ANIMAL NOS TRÓPICOS</td>\n",
              "      <td>MEDICINA VETERINÁRIA</td>\n",
              "      <td>MEDICINA VETERINÁRIA</td>\n",
              "      <td>CIÊNCIAS AGRÁRIAS</td>\n",
              "      <td>NaN</td>\n",
              "      <td>0.0</td>\n",
              "      <td>0.0</td>\n",
              "      <td>20</td>\n",
              "      <td>0.0</td>\n",
              "      <td>NaN</td>\n",
              "      <td>NaN</td>\n",
              "      <td>26</td>\n",
              "      <td>0.0</td>\n",
              "      <td>NaN</td>\n",
              "      <td>0.0</td>\n",
              "      <td>NaN</td>\n",
              "      <td>NaN</td>\n",
              "      <td>0.0</td>\n",
              "      <td>0.0</td>\n",
              "      <td>46</td>\n",
              "    </tr>\n",
              "    <tr>\n",
              "      <th>109800</th>\n",
              "      <td>109801</td>\n",
              "      <td>2005</td>\n",
              "      <td>RJ</td>\n",
              "      <td>RIO DE JANEIRO</td>\n",
              "      <td>SUDESTE</td>\n",
              "      <td>31012019001P2</td>\n",
              "      <td>PROEX</td>\n",
              "      <td>IUPERJ</td>\n",
              "      <td>Privada</td>\n",
              "      <td>SOCIOLOGIA</td>\n",
              "      <td>SOCIOLOGIA</td>\n",
              "      <td>SOCIOLOGIA</td>\n",
              "      <td>CIÊNCIAS HUMANAS</td>\n",
              "      <td>NaN</td>\n",
              "      <td>NaN</td>\n",
              "      <td>NaN</td>\n",
              "      <td>9</td>\n",
              "      <td>NaN</td>\n",
              "      <td>NaN</td>\n",
              "      <td>NaN</td>\n",
              "      <td>7</td>\n",
              "      <td>NaN</td>\n",
              "      <td>NaN</td>\n",
              "      <td>NaN</td>\n",
              "      <td>NaN</td>\n",
              "      <td>NaN</td>\n",
              "      <td>NaN</td>\n",
              "      <td>0.0</td>\n",
              "      <td>16</td>\n",
              "    </tr>\n",
              "    <tr>\n",
              "      <th>78435</th>\n",
              "      <td>78436</td>\n",
              "      <td>2010</td>\n",
              "      <td>GO</td>\n",
              "      <td>GOIÂNIA</td>\n",
              "      <td>CENTRO-OESTE</td>\n",
              "      <td>52002012013P8</td>\n",
              "      <td>PROCAD/NF</td>\n",
              "      <td>PUC-GOIÁS</td>\n",
              "      <td>Privada</td>\n",
              "      <td>HISTÓRIA</td>\n",
              "      <td>HISTÓRIA</td>\n",
              "      <td>HISTÓRIA</td>\n",
              "      <td>CIÊNCIAS HUMANAS</td>\n",
              "      <td>NaN</td>\n",
              "      <td>NaN</td>\n",
              "      <td>NaN</td>\n",
              "      <td>0</td>\n",
              "      <td>NaN</td>\n",
              "      <td>NaN</td>\n",
              "      <td>NaN</td>\n",
              "      <td>2</td>\n",
              "      <td>NaN</td>\n",
              "      <td>NaN</td>\n",
              "      <td>0.0</td>\n",
              "      <td>NaN</td>\n",
              "      <td>NaN</td>\n",
              "      <td>NaN</td>\n",
              "      <td>1.0</td>\n",
              "      <td>3</td>\n",
              "    </tr>\n",
              "  </tbody>\n",
              "</table>\n",
              "</div>"
            ],
            "text/plain": [
              "        Unnamed: 0   Ano  UF  ... Professor IsF PÓS-DOUTORADO Total Linha\n",
              "21765        21766  2016  BA  ...           0.0           0.0          46\n",
              "109800      109801  2005  RJ  ...           NaN           0.0          16\n",
              "78435        78436  2010  GO  ...           NaN           1.0           3\n",
              "\n",
              "[3 rows x 29 columns]"
            ]
          },
          "metadata": {
            "tags": []
          },
          "execution_count": 59
        }
      ]
    },
    {
      "cell_type": "code",
      "metadata": {
        "id": "M6IefmCPwcMZ",
        "colab_type": "code",
        "colab": {
          "base_uri": "https://localhost:8080/",
          "height": 230
        },
        "outputId": "da44d533-29d2-4b98-b233-bfeed8a2c0d0"
      },
      "source": [
        "# algumas vezes pode ser necessário incluir outros parâmetros\n",
        "df_prouni = pd.read_csv(\"https://github.com/alexaldr/curso_de_python/blob/master/dataframes/pda-bolsistas-prouni-2018.CSV?raw=true\",\n",
        "                        error_bad_lines=False, # elimina linhas com erro\n",
        "                        encoding=\"cp1252\",\n",
        "                        sep=\";\"\n",
        "                        )\n",
        "df_prouni.sample(3)"
      ],
      "execution_count": 57,
      "outputs": [
        {
          "output_type": "execute_result",
          "data": {
            "text/html": [
              "<div>\n",
              "<style scoped>\n",
              "    .dataframe tbody tr th:only-of-type {\n",
              "        vertical-align: middle;\n",
              "    }\n",
              "\n",
              "    .dataframe tbody tr th {\n",
              "        vertical-align: top;\n",
              "    }\n",
              "\n",
              "    .dataframe thead th {\n",
              "        text-align: right;\n",
              "    }\n",
              "</style>\n",
              "<table border=\"1\" class=\"dataframe\">\n",
              "  <thead>\n",
              "    <tr style=\"text-align: right;\">\n",
              "      <th></th>\n",
              "      <th>ANO_CONCESSAO_BOLSA</th>\n",
              "      <th>CODIGO_EMEC_IES_BOLSA</th>\n",
              "      <th>NOME_IES_BOLSA</th>\n",
              "      <th>TIPO_BOLSA</th>\n",
              "      <th>MODALIDADE_ENSINO_BOLSA</th>\n",
              "      <th>NOME_CURSO_BOLSA</th>\n",
              "      <th>NOME_TURNO_CURSO_BOLSA</th>\n",
              "      <th>CPF_BENEFICIARIO_BOLSA</th>\n",
              "      <th>SEXO_BENEFICIARIO_BOLSA</th>\n",
              "      <th>RACA_BENEFICIARIO_BOLSA</th>\n",
              "      <th>DT_NASCIMENTO_BENEFICIARIO</th>\n",
              "      <th>BENEFICIARIO_DEFICIENTE_FISICO</th>\n",
              "      <th>REGIAO_BENEFICIARIO_BOLSA</th>\n",
              "      <th>SIGLA_UF_BENEFICIARIO_BOLSA</th>\n",
              "      <th>MUNICIPIO_BENEFICIARIO_BOLSA</th>\n",
              "    </tr>\n",
              "  </thead>\n",
              "  <tbody>\n",
              "    <tr>\n",
              "      <th>112198</th>\n",
              "      <td>2018</td>\n",
              "      <td>270</td>\n",
              "      <td>FACULDADE DE TUPÃ</td>\n",
              "      <td>BOLSA INTEGRAL</td>\n",
              "      <td>PRESENCIAL</td>\n",
              "      <td>EDUCAÇÃO FÍSICA</td>\n",
              "      <td>Noturno</td>\n",
              "      <td>***393388**</td>\n",
              "      <td>Masculino</td>\n",
              "      <td>Preta</td>\n",
              "      <td>1999-06-24</td>\n",
              "      <td>NÃO</td>\n",
              "      <td>SUDESTE</td>\n",
              "      <td>SP</td>\n",
              "      <td>TUPA</td>\n",
              "    </tr>\n",
              "    <tr>\n",
              "      <th>128051</th>\n",
              "      <td>2018</td>\n",
              "      <td>13897</td>\n",
              "      <td>FACULDADE LABORO</td>\n",
              "      <td>BOLSA PARCIAL 50%</td>\n",
              "      <td>PRESENCIAL</td>\n",
              "      <td>REDES DE COMPUTADORES</td>\n",
              "      <td>Noturno</td>\n",
              "      <td>***958183**</td>\n",
              "      <td>Masculino</td>\n",
              "      <td>Parda</td>\n",
              "      <td>1988-05-10</td>\n",
              "      <td>NÃO</td>\n",
              "      <td>NORDESTE</td>\n",
              "      <td>MA</td>\n",
              "      <td>SAO LUIS</td>\n",
              "    </tr>\n",
              "    <tr>\n",
              "      <th>190636</th>\n",
              "      <td>2018</td>\n",
              "      <td>143</td>\n",
              "      <td>UNIVERSIDADE DE UBERABA</td>\n",
              "      <td>BOLSA INTEGRAL</td>\n",
              "      <td>PRESENCIAL</td>\n",
              "      <td>GESTÃO DO AGRONEGÓCIO</td>\n",
              "      <td>Noturno</td>\n",
              "      <td>***209196**</td>\n",
              "      <td>Feminino</td>\n",
              "      <td>Parda</td>\n",
              "      <td>1984-03-01</td>\n",
              "      <td>NÃO</td>\n",
              "      <td>SUDESTE</td>\n",
              "      <td>MG</td>\n",
              "      <td>UBERABA</td>\n",
              "    </tr>\n",
              "  </tbody>\n",
              "</table>\n",
              "</div>"
            ],
            "text/plain": [
              "        ANO_CONCESSAO_BOLSA  ...  MUNICIPIO_BENEFICIARIO_BOLSA\n",
              "112198                 2018  ...                          TUPA\n",
              "128051                 2018  ...                      SAO LUIS\n",
              "190636                 2018  ...                       UBERABA\n",
              "\n",
              "[3 rows x 15 columns]"
            ]
          },
          "metadata": {
            "tags": []
          },
          "execution_count": 57
        }
      ]
    },
    {
      "cell_type": "code",
      "metadata": {
        "id": "yciPJpqy0k7A",
        "colab_type": "code",
        "colab": {
          "base_uri": "https://localhost:8080/",
          "height": 204
        },
        "outputId": "20982bfd-4a1d-40d3-835d-0cbbff88c53f"
      },
      "source": [
        "df = pd.read_csv(\"https://github.com/alexaldr/curso_de_python/blob/master/dataframes/forest-fires-in-brazil.zip?raw=true\",\n",
        "                #  error_bad_lines=False,\n",
        "                 encoding=\"cp1252\",\n",
        "                 sep=\",\",\n",
        "                 compression=\"zip\"\n",
        "                 )\n",
        "df.head()"
      ],
      "execution_count": 56,
      "outputs": [
        {
          "output_type": "execute_result",
          "data": {
            "text/html": [
              "<div>\n",
              "<style scoped>\n",
              "    .dataframe tbody tr th:only-of-type {\n",
              "        vertical-align: middle;\n",
              "    }\n",
              "\n",
              "    .dataframe tbody tr th {\n",
              "        vertical-align: top;\n",
              "    }\n",
              "\n",
              "    .dataframe thead th {\n",
              "        text-align: right;\n",
              "    }\n",
              "</style>\n",
              "<table border=\"1\" class=\"dataframe\">\n",
              "  <thead>\n",
              "    <tr style=\"text-align: right;\">\n",
              "      <th></th>\n",
              "      <th>year</th>\n",
              "      <th>state</th>\n",
              "      <th>month</th>\n",
              "      <th>number</th>\n",
              "      <th>date</th>\n",
              "    </tr>\n",
              "  </thead>\n",
              "  <tbody>\n",
              "    <tr>\n",
              "      <th>0</th>\n",
              "      <td>1998</td>\n",
              "      <td>Acre</td>\n",
              "      <td>Janeiro</td>\n",
              "      <td>0.0</td>\n",
              "      <td>1998-01-01</td>\n",
              "    </tr>\n",
              "    <tr>\n",
              "      <th>1</th>\n",
              "      <td>1999</td>\n",
              "      <td>Acre</td>\n",
              "      <td>Janeiro</td>\n",
              "      <td>0.0</td>\n",
              "      <td>1999-01-01</td>\n",
              "    </tr>\n",
              "    <tr>\n",
              "      <th>2</th>\n",
              "      <td>2000</td>\n",
              "      <td>Acre</td>\n",
              "      <td>Janeiro</td>\n",
              "      <td>0.0</td>\n",
              "      <td>2000-01-01</td>\n",
              "    </tr>\n",
              "    <tr>\n",
              "      <th>3</th>\n",
              "      <td>2001</td>\n",
              "      <td>Acre</td>\n",
              "      <td>Janeiro</td>\n",
              "      <td>0.0</td>\n",
              "      <td>2001-01-01</td>\n",
              "    </tr>\n",
              "    <tr>\n",
              "      <th>4</th>\n",
              "      <td>2002</td>\n",
              "      <td>Acre</td>\n",
              "      <td>Janeiro</td>\n",
              "      <td>0.0</td>\n",
              "      <td>2002-01-01</td>\n",
              "    </tr>\n",
              "  </tbody>\n",
              "</table>\n",
              "</div>"
            ],
            "text/plain": [
              "   year state    month  number        date\n",
              "0  1998  Acre  Janeiro     0.0  1998-01-01\n",
              "1  1999  Acre  Janeiro     0.0  1999-01-01\n",
              "2  2000  Acre  Janeiro     0.0  2000-01-01\n",
              "3  2001  Acre  Janeiro     0.0  2001-01-01\n",
              "4  2002  Acre  Janeiro     0.0  2002-01-01"
            ]
          },
          "metadata": {
            "tags": []
          },
          "execution_count": 56
        }
      ]
    },
    {
      "cell_type": "code",
      "metadata": {
        "colab_type": "code",
        "id": "8dQ5GK7wz45R",
        "colab": {}
      },
      "source": [
        "# salvar arquivos grandes em disco primeiro\n",
        "import requests\n",
        "\n",
        "url = \"https://images.pexels.com/photos/1181671/pexels-photo-1181671.jpeg?crop=entropy&cs=srgb&dl=adult-coder-developer-1181671.jpg&fit=crop&fm=jpg&h=1281&w=1920\"\n",
        "response = requests.get(url, stream=True)\n",
        "\n",
        "# verifica se houve resposta 200 e salva o arquivo em chuncks (pedaços)\n",
        "if response.status_code == 200:\n",
        "    with open('wallpaper.jpg', 'wb') as handle:\n",
        "        for block in response.iter_content(1024):\n",
        "            handle.write(block)\n",
        "        print(\"Arquivo salvo com sucesso!\")\n",
        "        print(\"Photo by Christina Morillo (from Pexels)\\n\"+\n",
        "              \"https://www.pexels.com/photo/python-book-1181671/\")\n",
        "else:\n",
        "    print(\"Impossível salvar o arquivo!\\n\"+\n",
        "          f\"Erro {response.status_code}\")\n",
        "\n",
        "# A título de curiosidade\n",
        "# Exibir imagens no Jupyter Notebook\n",
        "from IPython.display import Image, display\n",
        "display(Image(filename=\"wallpaper.jpg\", width=700))"
      ],
      "execution_count": 0,
      "outputs": []
    },
    {
      "cell_type": "markdown",
      "metadata": {
        "id": "IOFLGMh4zQ4f",
        "colab_type": "text"
      },
      "source": [
        "# Manipulação de dataframes"
      ]
    },
    {
      "cell_type": "code",
      "metadata": {
        "id": "y4eKAfSWBhWD",
        "colab_type": "code",
        "colab": {
          "base_uri": "https://localhost:8080/",
          "height": 34
        },
        "outputId": "5f0b6965-f138-4433-dbd0-3e3775f7c46b"
      },
      "source": [
        "# número de linhas e colunas\n",
        "df.shape"
      ],
      "execution_count": 60,
      "outputs": [
        {
          "output_type": "execute_result",
          "data": {
            "text/plain": [
              "(136114, 29)"
            ]
          },
          "metadata": {
            "tags": []
          },
          "execution_count": 60
        }
      ]
    },
    {
      "cell_type": "code",
      "metadata": {
        "id": "GJ-3e_2VJ_FJ",
        "colab_type": "code",
        "colab": {}
      },
      "source": [
        "# nomes das colunas\n",
        "df.columns"
      ],
      "execution_count": 0,
      "outputs": []
    },
    {
      "cell_type": "code",
      "metadata": {
        "id": "r3Zg8DUyKFSi",
        "colab_type": "code",
        "colab": {}
      },
      "source": [
        "# tipos das colunas\n",
        "df.dtypes"
      ],
      "execution_count": 0,
      "outputs": []
    },
    {
      "cell_type": "code",
      "metadata": {
        "id": "dbtSYCBVaKNs",
        "colab_type": "code",
        "colab": {}
      },
      "source": [
        "# mudar o tipo de uma coluna\n",
        "df[\"Codigo IES\"] = df[\"Codigo IES\"].astype(\"object\")"
      ],
      "execution_count": 0,
      "outputs": []
    },
    {
      "cell_type": "code",
      "metadata": {
        "id": "XuvBCIxnBkC-",
        "colab_type": "code",
        "colab": {}
      },
      "source": [
        "df.head()"
      ],
      "execution_count": 0,
      "outputs": []
    },
    {
      "cell_type": "code",
      "metadata": {
        "id": "eK2aj3l3C1-8",
        "colab_type": "code",
        "colab": {}
      },
      "source": [
        "df.tail()"
      ],
      "execution_count": 0,
      "outputs": []
    },
    {
      "cell_type": "code",
      "metadata": {
        "id": "jHJkcd-5Bcl_",
        "colab_type": "code",
        "colab": {}
      },
      "source": [
        "df.sample(5)"
      ],
      "execution_count": 0,
      "outputs": []
    },
    {
      "cell_type": "code",
      "metadata": {
        "id": "MT3ZURlTCnbW",
        "colab_type": "code",
        "colab": {}
      },
      "source": [
        "# axis=0:   linhas\n",
        "# axis=1:   colunas\n",
        "# inplace:  modifica o próprio dataframe\n",
        "df.drop(\"Unnamed: 0\", axis=1, inplace=True)\n",
        "# del df[\"Unnamed: 0\"]\n",
        "df.head()"
      ],
      "execution_count": 0,
      "outputs": []
    },
    {
      "cell_type": "code",
      "metadata": {
        "id": "YocfC8qtESMv",
        "colab_type": "code",
        "colab": {}
      },
      "source": [
        "# se estiver desordenado\n",
        "df.sort_values(\"Ano\", inplace=True)\n",
        "df.head()"
      ],
      "execution_count": 0,
      "outputs": []
    },
    {
      "cell_type": "code",
      "metadata": {
        "id": "hNRyhG1xKxOK",
        "colab_type": "code",
        "colab": {}
      },
      "source": [
        "df.describe()"
      ],
      "execution_count": 0,
      "outputs": []
    },
    {
      "cell_type": "code",
      "metadata": {
        "id": "1w231EWmBrI4",
        "colab_type": "code",
        "colab": {}
      },
      "source": [
        "df[\"MESTRADO\"].describe()"
      ],
      "execution_count": 0,
      "outputs": []
    },
    {
      "cell_type": "code",
      "metadata": {
        "id": "hBQAMdPwBoRe",
        "colab_type": "code",
        "colab": {}
      },
      "source": [
        "df[\"UF\"].value_counts()"
      ],
      "execution_count": 0,
      "outputs": []
    },
    {
      "cell_type": "code",
      "metadata": {
        "id": "Q-3hOiLq3UpS",
        "colab_type": "code",
        "colab": {}
      },
      "source": [
        "# filtros\n",
        "df[df[\"Ano\"]>=2018].sample(5)"
      ],
      "execution_count": 0,
      "outputs": []
    },
    {
      "cell_type": "code",
      "metadata": {
        "id": "z5-LnD_j4U2Z",
        "colab_type": "code",
        "colab": {}
      },
      "source": [
        "# primeiras cinco linhas + colunas 1 à 6\n",
        "df.iloc[0:5, 1:7]\n",
        "\n",
        "# df.iloc[136100:-5, 8:4:-1]"
      ],
      "execution_count": 0,
      "outputs": []
    },
    {
      "cell_type": "code",
      "metadata": {
        "id": "VyhoFsJY41-5",
        "colab_type": "code",
        "colab": {}
      },
      "source": [
        "# primeiras linhas + colunas por label\n",
        "df.loc[1:5, [\"Ano\", \"IES\", \"UF\"]]\n",
        "# Ordem?"
      ],
      "execution_count": 0,
      "outputs": []
    },
    {
      "cell_type": "code",
      "metadata": {
        "id": "ytWnpnAsDxEp",
        "colab_type": "code",
        "colab": {}
      },
      "source": [
        "df.sort_index(inplace=True)\n",
        "df.head()"
      ],
      "execution_count": 0,
      "outputs": []
    },
    {
      "cell_type": "code",
      "metadata": {
        "id": "Fy02A5lYpnrN",
        "colab_type": "code",
        "colab": {}
      },
      "source": [
        "# soma dos campos com valores nulos (True=1)\n",
        "df.isnull().sum()"
      ],
      "execution_count": 0,
      "outputs": []
    },
    {
      "cell_type": "code",
      "metadata": {
        "id": "cuJaxom-7Q3G",
        "colab_type": "code",
        "colab": {}
      },
      "source": [
        "# substitui nulos (NaN) pelo valor passado\n",
        "df.fillna(0)"
      ],
      "execution_count": 0,
      "outputs": []
    },
    {
      "cell_type": "code",
      "metadata": {
        "id": "JclxkewnqDeN",
        "colab_type": "code",
        "colab": {}
      },
      "source": [
        "# exlui linhas ou colunas que possuem algum valor nulo\n",
        "df.dropna(inplace=True)"
      ],
      "execution_count": 0,
      "outputs": []
    },
    {
      "cell_type": "code",
      "metadata": {
        "id": "UO1jZvRMqRer",
        "colab_type": "code",
        "colab": {}
      },
      "source": [
        "df.isnull().sum()\n",
        "# df.shape"
      ],
      "execution_count": 0,
      "outputs": []
    },
    {
      "cell_type": "code",
      "metadata": {
        "id": "YETb6NSBEZ_X",
        "colab_type": "code",
        "colab": {}
      },
      "source": [
        "# df.loc[df[\"IES\"]==\"UNIMONTES\"].loc[df[\"Área Conhecimento\"]==\"SAÚDE E BIOLÓGICAS\"].sort_values(\"Ano\").sample(5)\n",
        "unimontes = df.loc[df[\"IES\"]==\"UNIMONTES\"]\n",
        "unimontes.sample(5)"
      ],
      "execution_count": 0,
      "outputs": []
    },
    {
      "cell_type": "code",
      "metadata": {
        "id": "_ZLRD75IspGZ",
        "colab_type": "code",
        "colab": {}
      },
      "source": [
        "# Podemos excluir colunas que não fazem mais sentido para o novo dataframe\n",
        "unimontes.drop(\"Região\", axis=1, inplace=True)\n",
        "unimontes.head(3)"
      ],
      "execution_count": 0,
      "outputs": []
    },
    {
      "cell_type": "code",
      "metadata": {
        "id": "HHKQTh4z6-T-",
        "colab_type": "code",
        "colab": {}
      },
      "source": [
        "# Change the index to be based on the 'id' column\n",
        "\n",
        "unimontes[\"index_1\"] = list(i for i in range(0, unimontes.shape[0]))\n",
        "unimontes.head(3)"
      ],
      "execution_count": 0,
      "outputs": []
    },
    {
      "cell_type": "code",
      "metadata": {
        "id": "sbg_ad9dpSIf",
        "colab_type": "code",
        "colab": {}
      },
      "source": [
        "# insert at index\n",
        "unimontes.insert(2, \"index_2\", list(i for i in range(0, unimontes.shape[0])) )\n",
        "unimontes.head(3)"
      ],
      "execution_count": 0,
      "outputs": []
    },
    {
      "cell_type": "code",
      "metadata": {
        "id": "eAwQPnhLJnnO",
        "colab_type": "code",
        "colab": {}
      },
      "source": [
        "unimontes.set_index(\"ind\", inplace=True)\n",
        "unimontes.head(3)"
      ],
      "execution_count": 0,
      "outputs": []
    },
    {
      "cell_type": "code",
      "metadata": {
        "id": "nlZL7Tqmrc3_",
        "colab_type": "code",
        "colab": {}
      },
      "source": [
        "unimontes.to_excel(\"bolsas_capes_unimontes.xls\", encoding=\"cp1252\")"
      ],
      "execution_count": 0,
      "outputs": []
    },
    {
      "cell_type": "code",
      "metadata": {
        "id": "woWiqS7BTtl4",
        "colab_type": "code",
        "colab": {}
      },
      "source": [
        "unimontes.rename(str.upper, axis=\"columns\", inplace=True)\n",
        "# unimontes = unimontes.rename(columns=(lambda x: x.replace(\" \", \"_\"))).copy()\n",
        "# unimontes = unimontes.rename(columns={\"UF\":\"uf\"}).copy()\n",
        "\n",
        "unimontes.columns"
      ],
      "execution_count": 0,
      "outputs": []
    },
    {
      "cell_type": "code",
      "metadata": {
        "id": "rSRGBvnvMtSs",
        "colab_type": "code",
        "colab": {}
      },
      "source": [
        "# recriar o dataframe unimontes\n",
        "unimontes = df.loc[df[\"IES\"]==\"UNIMONTES\"]\n",
        "unimontes.sample(3)"
      ],
      "execution_count": 0,
      "outputs": []
    },
    {
      "cell_type": "code",
      "metadata": {
        "id": "2XysJgiKKciC",
        "colab_type": "code",
        "colab": {}
      },
      "source": [
        "# listagem dos valores únicos da coluna\n",
        "unimontes[\"Área Conhecimento\"].unique()"
      ],
      "execution_count": 0,
      "outputs": []
    },
    {
      "cell_type": "code",
      "metadata": {
        "id": "wKO73mrQNHbN",
        "colab_type": "code",
        "colab": {}
      },
      "source": [
        "# contagem dos valores únicos das colunas\n",
        "unimontes.nunique()"
      ],
      "execution_count": 0,
      "outputs": []
    },
    {
      "cell_type": "code",
      "metadata": {
        "id": "lkJCY6E7NmGs",
        "colab_type": "code",
        "colab": {}
      },
      "source": [
        "# IES? \n",
        "unimontes.groupby(\"Área Conhecimento\")[\"IES\"].count()\n",
        "\n",
        "# for i in (unimontes.groupby(\"Área Conhecimento\")[\"IES\"]):\n",
        "#     print(*i)"
      ],
      "execution_count": 0,
      "outputs": []
    },
    {
      "cell_type": "code",
      "metadata": {
        "id": "azWLsj-WPYX3",
        "colab_type": "code",
        "colab": {}
      },
      "source": [
        "# IES, UF, Ano\n",
        "unimontes.groupby(\"Área Conhecimento\")[\"IES\"].count() == unimontes.groupby(\"Área Conhecimento\")[\"Iniciação Científica\"].count()"
      ],
      "execution_count": 0,
      "outputs": []
    },
    {
      "cell_type": "code",
      "metadata": {
        "id": "7KtdlWgRulJa",
        "colab_type": "code",
        "colab": {}
      },
      "source": [
        "list(unimontes[\"Área Conhecimento\"].value_counts()) == list(unimontes.groupby(\"Área Conhecimento\")[\"IES\"].count().sort_values(ascending=False))"
      ],
      "execution_count": 0,
      "outputs": []
    },
    {
      "cell_type": "markdown",
      "metadata": {
        "id": "nktJ5dq3zXOk",
        "colab_type": "text"
      },
      "source": [
        "# Visualização de dataframes"
      ]
    },
    {
      "cell_type": "code",
      "metadata": {
        "id": "nCddbd7kGyuY",
        "colab_type": "code",
        "colab": {
          "base_uri": "https://localhost:8080/",
          "height": 272
        },
        "outputId": "66979050-d916-4f85-c936-8b8b609d8314"
      },
      "source": [
        "# unimontes.groupby(\"Área Conhecimento\")[\"IES\"].count().plot.bar()\n",
        "\n",
        "unimontes_areas = unimontes.groupby(\"Área Conhecimento\")[\"IES\"].count()\n",
        "unimontes_areas.plot.pie()"
      ],
      "execution_count": 89,
      "outputs": [
        {
          "output_type": "execute_result",
          "data": {
            "text/plain": [
              "<matplotlib.axes._subplots.AxesSubplot at 0x7f995603c518>"
            ]
          },
          "metadata": {
            "tags": []
          },
          "execution_count": 89
        },
        {
          "output_type": "display_data",
          "data": {
            "image/png": "[encoded data removed]",
            "text/plain": [
              "<Figure size 432x288 with 1 Axes>"
            ]
          },
          "metadata": {
            "tags": []
          }
        }
      ]
    },
    {
      "cell_type": "code",
      "metadata": {
        "id": "fdEgspIwd6Zs",
        "colab_type": "code",
        "colab": {
          "base_uri": "https://localhost:8080/",
          "height": 300
        },
        "outputId": "5e2dfe38-c7da-419f-b21f-c65898f118c7"
      },
      "source": [
        "unimontes_areas.plot.line()"
      ],
      "execution_count": 90,
      "outputs": [
        {
          "output_type": "execute_result",
          "data": {
            "text/plain": [
              "<matplotlib.axes._subplots.AxesSubplot at 0x7f995606fa58>"
            ]
          },
          "metadata": {
            "tags": []
          },
          "execution_count": 90
        },
        {
          "output_type": "display_data",
          "data": {
            "image/png": "[encoded data removed]",
            "text/plain": [
              "<Figure size 432x288 with 1 Axes>"
            ]
          },
          "metadata": {
            "tags": []
          }
        }
      ]
    },
    {
      "cell_type": "code",
      "metadata": {
        "id": "vMv_c2CBemnZ",
        "colab_type": "code",
        "colab": {
          "base_uri": "https://localhost:8080/",
          "height": 300
        },
        "outputId": "8ee6a571-d29b-4c79-c64e-83b3e83489c3"
      },
      "source": [
        "unimontes_areas.plot.area()"
      ],
      "execution_count": 91,
      "outputs": [
        {
          "output_type": "execute_result",
          "data": {
            "text/plain": [
              "<matplotlib.axes._subplots.AxesSubplot at 0x7f9955fdcfd0>"
            ]
          },
          "metadata": {
            "tags": []
          },
          "execution_count": 91
        },
        {
          "output_type": "display_data",
          "data": {
            "image/png": "[encoded data removed]",
            "text/plain": [
              "<Figure size 432x288 with 1 Axes>"
            ]
          },
          "metadata": {
            "tags": []
          }
        }
      ]
    },
    {
      "cell_type": "code",
      "metadata": {
        "id": "3xcKp6lwebc3",
        "colab_type": "code",
        "colab": {}
      },
      "source": [
        "unimontes_areas.plot.bar()"
      ],
      "execution_count": 0,
      "outputs": []
    },
    {
      "cell_type": "code",
      "metadata": {
        "id": "H8KhJIe4I4aC",
        "colab_type": "code",
        "colab": {}
      },
      "source": [
        "unimontes_areas.plot.barh()"
      ],
      "execution_count": 0,
      "outputs": []
    },
    {
      "cell_type": "code",
      "metadata": {
        "id": "pZzQ6cjofahd",
        "colab_type": "code",
        "colab": {}
      },
      "source": [
        "unimontes_areas.sort_values().plot.barh()"
      ],
      "execution_count": 0,
      "outputs": []
    },
    {
      "cell_type": "code",
      "metadata": {
        "id": "d6c3BoIZf90r",
        "colab_type": "code",
        "colab": {}
      },
      "source": [
        "unimontes_areas.sort_values().plot.barh(figsize=(8, 8))"
      ],
      "execution_count": 0,
      "outputs": []
    },
    {
      "cell_type": "code",
      "metadata": {
        "id": "dbFeOxL6hBuM",
        "colab_type": "code",
        "colab": {}
      },
      "source": [
        "unimontes_areas.sort_values().plot.barh(figsize=(8, 8),\n",
        "                                        title=\"Áreas de Pesquisa na Unimontes\",\n",
        "                                        # grid=True,\n",
        "                                        legend=\"Gráfico de barras horizontal\",\n",
        "                                        style=[\":\", \"--\"],\n",
        "                                        fontsize=12,\n",
        "                                        colors = [\"#89ABCD\", \"#789ABC\", \"#6789AB\", \"#56789A\",\n",
        "                                                  \"#456789\", \"#345678\", \"#234567\", \"#123456\"],                                \n",
        "                                        )"
      ],
      "execution_count": 0,
      "outputs": []
    },
    {
      "cell_type": "markdown",
      "metadata": {
        "colab_type": "text",
        "id": "yHHH8LVJp68Q"
      },
      "source": [
        "# Matplotlib"
      ]
    },
    {
      "cell_type": "markdown",
      "metadata": {
        "id": "63B5iWIpTC76",
        "colab_type": "text"
      },
      "source": [
        "###Se uma imagem vale mais que mil palavras, então diga isso com uma imagem.\n",
        "_(Millôr Fernandes)_"
      ]
    },
    {
      "cell_type": "code",
      "metadata": {
        "id": "Uz_nAyjKTiTq",
        "colab_type": "code",
        "colab": {
          "base_uri": "https://localhost:8080/",
          "height": 137
        },
        "outputId": "92b90bd4-6e29-4aa7-9ac2-4595b60f97ad"
      },
      "source": [
        "# Curiosidade\n",
        "from PIL import Image, ImageDraw, ImageFont\n",
        "\n",
        "img = Image.new(\"RGB\", (800, 100), color = (0, 0, 0))\n",
        " \n",
        "fnt = ImageFont.truetype(\n",
        "    \"/usr/local/lib/python3.6/dist-packages/matplotlib/mpl-data/fonts/ttf/STIXGeneralBol.ttf\", 40)\n",
        "d = ImageDraw.Draw(img)\n",
        "d.text((40,25), \"Uma imagem vale mais que mil palavras!\", font=fnt, fill=(255, 255, 0))\n",
        "d.rectangle([(5, 5), (795, 95)], fill=None, outline=\"blue\", )\n",
        "\n",
        "img.save(\"text_to_image.png\")\n",
        "img"
      ],
      "execution_count": 93,
      "outputs": [
        {
          "output_type": "execute_result",
          "data": {
            "image/png": "[encoded data removed]",
            "text/plain": [
              "<PIL.Image.Image image mode=RGB size=800x100 at 0x7F9955FDCEB8>"
            ]
          },
          "metadata": {
            "tags": []
          },
          "execution_count": 93
        }
      ]
    },
    {
      "cell_type": "code",
      "metadata": {
        "id": "Vs0hKJ7n3adD",
        "colab_type": "code",
        "colab": {}
      },
      "source": [
        "# importação do módulo\n",
        "import matplotlib.pyplot as plt\n",
        "# from matplotlib import pyplot as plt"
      ],
      "execution_count": 0,
      "outputs": []
    },
    {
      "cell_type": "code",
      "metadata": {
        "id": "2lCvdftYNTlR",
        "colab_type": "code",
        "colab": {
          "base_uri": "https://localhost:8080/",
          "height": 269
        },
        "outputId": "6268ea2b-9aee-4c50-985e-9e9a9b696174"
      },
      "source": [
        "# suficiente: uma série\n",
        "y = [1, 1, 2, 3, 5, 8, 13, 21, 34, 55]\n",
        "\n",
        "plt.plot(y)\n",
        "plt.show()"
      ],
      "execution_count": 95,
      "outputs": [
        {
          "output_type": "display_data",
          "data": {
            "image/png": "[encoded data removed]",
            "text/plain": [
              "<Figure size 432x288 with 1 Axes>"
            ]
          },
          "metadata": {
            "tags": []
          }
        }
      ]
    },
    {
      "cell_type": "code",
      "metadata": {
        "id": "u61zmztW3ozH",
        "colab_type": "code",
        "colab": {}
      },
      "source": [
        "x = [1, 2, 3, 4, 5, 6, 7, 8, 9, 10]\n",
        "y = [1, 1, 2, 3, 5, 8, 13, 21, 34, 55]\n",
        "\n",
        "plt.plot(x, y)\n",
        "plt.show()"
      ],
      "execution_count": 0,
      "outputs": []
    },
    {
      "cell_type": "code",
      "metadata": {
        "id": "4c5BzQUcQaZj",
        "colab_type": "code",
        "colab": {}
      },
      "source": [
        "x = [1, 2, 3, 4, 5, 6, 7, 8, 9, 10]\n",
        "y = [1, 1, 2, 3, 5, 8, 13, 21, 34, 55]\n",
        "\n",
        "# rótulos eixo x e y\n",
        "plt.xlabel('Número de ordem')\n",
        "plt.ylabel('Série de Fibonacci')\n",
        "\n",
        "plt.plot(x, y)\n",
        "plt.show()"
      ],
      "execution_count": 0,
      "outputs": []
    },
    {
      "cell_type": "markdown",
      "metadata": {
        "id": "POyLJA8NRf13",
        "colab_type": "text"
      },
      "source": [
        "#Format Strings\n",
        ">    fmt = \"[color][marker][line]\"\n",
        "\n",
        "Serve para formatar a cor, estilo dos pontos e estilo da linha.\n",
        "\n",
        "**Colors**  \n",
        "\n",
        "* \"b\": blue\n",
        "* \"g\": green \n",
        "* \"r\": red\n",
        "* \"c\": cyan\n",
        "* \"m\": magenta\n",
        "* \"y\": yellow\n",
        "* \"k\": black\n",
        "* \"w\": white\n",
        "\n",
        "**Markers**  \n",
        "* \".\": point marker\n",
        "* \",\": pixel marker\n",
        "* \"o\": circle marker\n",
        "* \"v\": triangle_down marker\n",
        "* \"^\": triangle_up marker\n",
        "* \"<\": triangle_left marker\n",
        "* \">\": triangle_right marker\n",
        "* \"1\": tri_down marker\n",
        "* \"2\": tri_up marker\n",
        "* \"3\": tri_left marker\n",
        "* \"4\": tri_right marker\n",
        "* \"s\": square marker\n",
        "* \"p\": pentagon marker\n",
        "* \"\\*\": star marker\n",
        "* \"h\": hexagon1 marker\n",
        "* \"H\": hexagon2 marker\n",
        "* \"+\": plus marker\n",
        "* \"X\": x marker\n",
        "* \"x\": thin_x marker\n",
        "* \"D\": diamond marker\n",
        "* \"d\": thin_diamond marker\n",
        "* \"|\": vline marker\n",
        "* \"_\": hline marker\n",
        "\n",
        "**Line Styles**  \n",
        "* \"-\": solid line style\n",
        "* \"--\": dashed line style\n",
        "* \"-.\": dash-dot line style\n",
        "* \":\": dotted line style"
      ]
    },
    {
      "cell_type": "code",
      "metadata": {
        "id": "4oUMovOvQ5bg",
        "colab_type": "code",
        "colab": {}
      },
      "source": [
        "x = [1, 2, 3, 4, 5, 6, 7, 8, 9, 10]\n",
        "y = [1, 1, 2, 3, 5, 8, 13, 21, 34, 55]\n",
        "\n",
        "plt.xlabel('Número de ordem')\n",
        "plt.ylabel('Série de Fibonacci')\n",
        "\n",
        "plt.plot(x, y, \"rs:\")\n",
        "plt.show()"
      ],
      "execution_count": 0,
      "outputs": []
    },
    {
      "cell_type": "code",
      "metadata": {
        "id": "gkxa1D6DVQ8-",
        "colab_type": "code",
        "colab": {}
      },
      "source": [
        "x = [1, 2, 3, 4, 5, 6, 7, 8, 9, 10]\n",
        "y = [1, 1, 2, 3, 5, 8, 13, 21, 34, 55]\n",
        "\n",
        "plt.xlabel('Número de ordem')\n",
        "plt.ylabel('Série de Fibonacci')\n",
        "\n",
        "# valores do eixo x e y\n",
        "plt.xticks(x)\n",
        "plt.yticks(y)\n",
        "\n",
        "plt.plot(x, y, \"rs:\")\n",
        "plt.show()"
      ],
      "execution_count": 0,
      "outputs": []
    },
    {
      "cell_type": "code",
      "metadata": {
        "id": "hLvUTdkkZbYm",
        "colab_type": "code",
        "colab": {}
      },
      "source": [
        "x = [1, 2, 3, 4, 5, 6, 7, 8, 9, 10]\n",
        "y = [1, 1, 2, 3, 5, 8, 13, 21, 34, 55]\n",
        "\n",
        "plt.xlabel('Número de ordem')\n",
        "plt.ylabel('Série de Fibonacci')\n",
        "\n",
        "plt.xticks(x)\n",
        "\n",
        "# limitar eixo y\n",
        "plt.yticks(list(i for i in y if i >=3 or i==1))\n",
        "\n",
        "plt.plot(x, y, \"rs:\")\n",
        "plt.show()"
      ],
      "execution_count": 0,
      "outputs": []
    },
    {
      "cell_type": "code",
      "metadata": {
        "id": "94awoefgaGIr",
        "colab_type": "code",
        "colab": {}
      },
      "source": [
        "x = [1, 2, 3, 4, 5, 6, 7, 8, 9, 10]\n",
        "y = [1, 1, 2, 3, 5, 8, 13, 21, 34, 55]\n",
        "\n",
        "plt.xlabel('Número de ordem')\n",
        "plt.ylabel('Série de Fibonacci')\n",
        "\n",
        "plt.xticks(x)\n",
        "plt.yticks(list(i for i in y if i >=3 or i==1))\n",
        "\n",
        "# grid\n",
        "plt.grid(True, which=\"both\", axis=\"both\")\n",
        "\n",
        "plt.plot(x, y, \"rs:\")\n",
        "plt.show()"
      ],
      "execution_count": 0,
      "outputs": []
    },
    {
      "cell_type": "code",
      "metadata": {
        "id": "3BatmMR8Ez2o",
        "colab_type": "code",
        "colab": {}
      },
      "source": [
        "x = [1, 2, 3, 4, 5, 6, 7, 8, 9, 10]\n",
        "y = [1, 1, 2, 3, 5, 8, 13, 21, 34, 55]\n",
        "\n",
        "plt.xlabel('Número de ordem')\n",
        "plt.ylabel('Série de Fibonacci')\n",
        "\n",
        "plt.xticks(x)\n",
        "plt.yticks(list(i for i in y if i >=3 or i==1))\n",
        "\n",
        "plt.grid(True, which=\"both\", axis=\"both\")\n",
        "\n",
        "# escala igualitária x vs y\n",
        "plt.xlim(0, 60)\n",
        "plt.ylim(0, 60)\n",
        "\n",
        "plt.plot(x, y, \"rs:\")\n",
        "plt.show()"
      ],
      "execution_count": 0,
      "outputs": []
    },
    {
      "cell_type": "code",
      "metadata": {
        "id": "kef1j09FbUwm",
        "colab_type": "code",
        "colab": {}
      },
      "source": [
        "x = [1, 2, 3, 4, 5, 6, 7, 8, 9, 10]\n",
        "y = [1, 1, 2, 3, 5, 8, 13, 21, 34, 55]\n",
        "\n",
        "plt.xlabel('Número de ordem')\n",
        "plt.ylabel('Série de Fibonacci')\n",
        "\n",
        "plt.xticks(x)\n",
        "plt.yticks(list(i for i in y if i >=3 or i==1))\n",
        "\n",
        "plt.grid(True, which=\"both\", axis=\"both\")\n",
        "\n",
        "plt.xlim(0, 60)\n",
        "plt.ylim(0, 60)\n",
        "\n",
        "# Título\n",
        "plt.title(\"Primeiros números da série de Fibonacci\")\n",
        "\n",
        "plt.plot(x, y, \"rs:\")\n",
        "plt.show()"
      ],
      "execution_count": 0,
      "outputs": []
    },
    {
      "cell_type": "code",
      "metadata": {
        "id": "RueMxO55beHA",
        "colab_type": "code",
        "colab": {}
      },
      "source": [
        "plt.bar(x, y)\n",
        "plt.xticks(x)\n",
        "plt.show()"
      ],
      "execution_count": 0,
      "outputs": []
    },
    {
      "cell_type": "code",
      "metadata": {
        "id": "LI8LfGBpfVvg",
        "colab_type": "code",
        "colab": {}
      },
      "source": [
        "plt.barh(x, y)\n",
        "plt.yticks(x)\n",
        "plt.show()"
      ],
      "execution_count": 0,
      "outputs": []
    },
    {
      "cell_type": "code",
      "metadata": {
        "id": "FSTcSElcfQ26",
        "colab_type": "code",
        "colab": {}
      },
      "source": [
        "plt.scatter(x,y)\n",
        "plt.show()"
      ],
      "execution_count": 0,
      "outputs": []
    },
    {
      "cell_type": "code",
      "metadata": {
        "id": "SfufDuEKbe3U",
        "colab_type": "code",
        "colab": {}
      },
      "source": [
        "plt.pie(y)\n",
        "plt.show()"
      ],
      "execution_count": 0,
      "outputs": []
    },
    {
      "cell_type": "code",
      "metadata": {
        "id": "Yqbc-OOwsw5q",
        "colab_type": "code",
        "colab": {}
      },
      "source": [
        "print(*plt.style.available, sep=\"\\n\")"
      ],
      "execution_count": 0,
      "outputs": []
    },
    {
      "cell_type": "code",
      "metadata": {
        "id": "-d78-XgrmQ0v",
        "colab_type": "code",
        "colab": {}
      },
      "source": [
        "y = [1, 1, 2, 1, 7, 8, 3, 4, 3, 5, 7, 1, 3, 2, 1, 9]\n",
        "plt.hist(y)\n",
        "plt.show()"
      ],
      "execution_count": 0,
      "outputs": []
    },
    {
      "cell_type": "code",
      "metadata": {
        "id": "E4_uJ34kmgrj",
        "colab_type": "code",
        "colab": {}
      },
      "source": [
        "y = [1, 1, 2, 1, 7, 8, 3, 4, 3, 5, 7, 1, 3, 2, 1, 9]\n",
        "plt.xticks(y)\n",
        "plt.hist(y, bins=range(0,len(y))) # alinhados a esquerda\n",
        "plt.show()"
      ],
      "execution_count": 0,
      "outputs": []
    },
    {
      "cell_type": "code",
      "metadata": {
        "id": "44MJ8bWsbeex",
        "colab_type": "code",
        "colab": {}
      },
      "source": [
        "import numpy as np\n",
        "\n",
        "y = [1, 1, 2, 1, 7, 8, 3, 4, 3, 5, 7, 1, 3, 2, 1, 9]\n",
        "plt.xticks(y)\n",
        "\n",
        "plt.hist(y, bins=np.arange(len(y))-0.5) # alinhados ao centro\n",
        "plt.show()"
      ],
      "execution_count": 0,
      "outputs": []
    },
    {
      "cell_type": "code",
      "metadata": {
        "id": "Ly8zsEL-JUky",
        "colab_type": "code",
        "colab": {}
      },
      "source": [
        "import numpy as np\n",
        "\n",
        "t = np.arange(0.0, 1.0, 0.01)\n",
        "\n",
        "plt.plot(t, np.sin(2*np.pi*t))\n",
        "plt.plot(t, np.cos(2*np.pi*t))\n",
        "\n",
        "plt.show()"
      ],
      "execution_count": 0,
      "outputs": []
    },
    {
      "cell_type": "code",
      "metadata": {
        "id": "OtaYqetoDof5",
        "colab_type": "code",
        "colab": {}
      },
      "source": [
        "x = [1, 2, 3, 4, 5, 6, 7]\n",
        "y = [5, 7, 7, 5, 3, 3, 5]\n",
        "\n",
        "x2 = [1, 2, 3, 4, 5, 6, 7]\n",
        "y2 = [5, 3, 3, 5, 7, 7, 5]\n",
        "\n",
        "plt.plot(x, y, label=\"Linha 01\", )\n",
        "plt.plot(x2, y2, label=\"Linha 02\")\n",
        "\n",
        "plt.xlabel(\"Número de ordem\")\n",
        "plt.ylabel(\"Variável importante\")\n",
        "\n",
        "plt.title(\"Gráfico com duas séries\")\n",
        "# adicionar legenda\n",
        "plt.legend()\n",
        "plt.show()"
      ],
      "execution_count": 0,
      "outputs": []
    },
    {
      "cell_type": "code",
      "metadata": {
        "id": "e3Axyc3QKkQp",
        "colab_type": "code",
        "colab": {}
      },
      "source": [
        "# infinito ou carinha?\n",
        "x = [1, 2, 3, 4, 5, 6, 7]\n",
        "y = [5, 7, 7, 5, 3, 3, 5]\n",
        "\n",
        "x2 = [1, 2, 3, 4, 5, 6, 7]\n",
        "y2 = [5, 3, 3, 5, 7, 7, 5]\n",
        "\n",
        "plt.plot(x, y, label=\"Linha 01\", )\n",
        "plt.plot(x2, y2, label=\"Linha 02\")\n",
        "\n",
        "# adicionais\n",
        "# plt.plot([1.5, 2, 2.5, 3, 3.5],[7, 7.5, 7.5, 7.5, 7], \"k-.\")\n",
        "# plt.plot([4.5, 5, 5.5, 6, 6.5],[7, 7.5, 7.5, 7.5, 7], \"k-.\")\n",
        "# plt.plot([2.5, 5.5], [5, 5], \"go\")\n",
        "# plt.plot(4, 3, \"r^\")\n",
        "# plt.plot([2, 3, 4, 5, 6], [2.5, 2, 2, 2, 2.5], \"r-\")\n",
        "\n",
        "\n",
        "plt.xlabel(\"Número de ordem\")\n",
        "plt.ylabel(\"Variável importante\")\n",
        "\n",
        "plt.title(\"Gráfico com duas séries\")\n",
        "\n",
        "plt.show()"
      ],
      "execution_count": 0,
      "outputs": []
    },
    {
      "cell_type": "markdown",
      "metadata": {
        "id": "-cfsqN_myu0q",
        "colab_type": "text"
      },
      "source": [
        "### [Clique aqui](https://docs.python.org/3/library/stdtypes.html#printf-style-string-formatting) para ver outras opções de conversão em formatação de strings, conforme exemplo abaixo."
      ]
    },
    {
      "cell_type": "code",
      "metadata": {
        "id": "wfs1vkIQS_HW",
        "colab_type": "code",
        "colab": {}
      },
      "source": [
        "plt.figure(figsize=(10,5))\n",
        "# mais de uma série em um gráfico\n",
        "notas_provas = {\"Cida\": [5, 8, 1], \"Amanda\": [7, 6, 8], \"José\": [4, 2, 3],\n",
        "                \"Carlos\": [10, 9, 9], \"Joyce\": [6, 5, 10], \"Alexandre\": [3, 2, 8]}\n",
        "\n",
        "# lista com todas as notas separadas por listas\n",
        "notas = [nota for nota in notas_provas.values()]\n",
        "\n",
        "# função para gerar aleatoriamente uma HEX COLOR (#FFFFFF)\n",
        "def random_color():\n",
        "    import random\n",
        "    r = lambda: random.randint(0,255) # 255 = FF\n",
        "    hex_number = f\"#{r():02x}{r():02x}{r():02x}\"\n",
        "    return hex_number\n",
        "\n",
        "i = 0\n",
        "# lista de notas de cada aluno\n",
        "for aluno_nota in notas:\n",
        "    # cada nota de um aluno\n",
        "    cor = random_color()\n",
        "    for nota in aluno_nota:\n",
        "        plt.bar(i, nota, align=\"center\", width=0.8, alpha=0.5, color=cor)\n",
        "        # parâmetros = (x, y, valor)\n",
        "        plt.text(i, nota+0.1, nota)\n",
        "    i += 1\n",
        "\n",
        "# grid no eixo y\n",
        "plt.grid(True, axis=\"y\")\n",
        "\n",
        "# Título\n",
        "plt.title(\"Notas da Turma A\")\n",
        "\n",
        "# comprimento e rótulos\n",
        "plt.xticks(range(len(notas_provas)), list(notas_provas.keys()))\n",
        "plt.yticks(range(11))\n",
        "\n",
        "plt.show()"
      ],
      "execution_count": 0,
      "outputs": []
    },
    {
      "cell_type": "code",
      "metadata": {
        "id": "PCRXpwXJpZ0g",
        "colab_type": "code",
        "colab": {}
      },
      "source": [
        "import matplotlib.pyplot as plt\n",
        "x = [i for i in range(1, 21)]\n",
        "y = [5, 5, 5, 5, 5, 5, 5, 6, 4, 10, 0, 6, 4, 5, 5, 5, 5, 5, 5, 5]\n",
        "\n",
        "# para usar um estilo temporariamente\n",
        "with plt.style.context([\"seaborn-dark\", \"dark_background\"]):\n",
        "    plt.tick_params(axis=\"both\",\n",
        "                    bottom=False,\n",
        "                    left=False,\n",
        "                    labelbottom=False,\n",
        "                    labelleft=False)\n",
        "    plt.plot(x,y, \"r-\")\n",
        "    # salvar em disco\n",
        "    plt.savefig(\"./grafico_batimentos.png\")"
      ],
      "execution_count": 0,
      "outputs": []
    },
    {
      "cell_type": "markdown",
      "metadata": {
        "id": "ulaQ1Rs_bgBX",
        "colab_type": "text"
      },
      "source": [
        "## Já vimos a forma básica de criar gráficos, porém o matplotlib nos fornece uma gama muito maior de opções.\n",
        "\n",
        "## Para isso, precisamos antes entender como funcionam as suas partes."
      ]
    },
    {
      "cell_type": "markdown",
      "metadata": {
        "id": "EFdUEhGhsGEz",
        "colab_type": "text"
      },
      "source": [
        "## Partes de um gráfico\n",
        "\n",
        "![\"Esquema das partes de um gráfico Matplotlib\"](https://files.realpython.com/media/fig_map.bc8c7cabd823.png) "
      ]
    },
    {
      "cell_type": "markdown",
      "metadata": {
        "id": "TPWrmNsHuDey",
        "colab_type": "text"
      },
      "source": [
        "##Conceitos Gerais\n",
        "\n",
        "\n",
        "###Uma figura do Matplotlib pode ser categorizada em várias partes:\n",
        "\n",
        "* **Figure**: é uma figura inteira que pode conter um ou mais de um eixo (plotagens). Você pode pensar em uma figura como uma tela que contém gráficos. É o nível mais alto.\n",
        "\n",
        "* **Axes**: é o que adicionamos ao _Figure_. Uma figura pode conter muitos _Axes_. Ele contém dois ou três objetos do tipo _Axis_ (no caso de 3D). Cada _Axes_ tem um title, um label x e um label y.\n",
        "\n",
        "* **Axis**: são a linha numérica como objetos e cuidam da geração dos limites do gráfico.\n",
        "\n",
        "* **Artist**: Tudo o que se pode ver na figura é um artista como objetos de texto, objetos Line2D, objetos de coleção. A maioria dos artistas está ligada aos machados."
      ]
    },
    {
      "cell_type": "markdown",
      "metadata": {
        "id": "VcMvNYK8uH1q",
        "colab_type": "text"
      },
      "source": [
        "![Esquema das partes de um gráfico Matplotlib 2](https://s3.amazonaws.com/assets.datacamp.com/blog_assets/Matplotlib+Tutorial/content_content_unknown.png)"
      ]
    },
    {
      "cell_type": "markdown",
      "metadata": {
        "id": "ta8xDdSAzqPZ",
        "colab_type": "text"
      },
      "source": [
        "# Vejamos os detalhes do gráfico:\n",
        "![Anatomia de um gráfico Matplotlib](https://files.realpython.com/media/anatomy.7d033ebbfbc8.png)"
      ]
    },
    {
      "cell_type": "code",
      "metadata": {
        "id": "_gOtjCwt6TYh",
        "colab_type": "code",
        "colab": {}
      },
      "source": [
        "fig = plt.figure(figsize=(10, 10))\n",
        "\n",
        "# ax1 será meu objeto a ser plotado dentro de fig\n",
        "ax1 = fig.add_subplot(221) # (nrows, ncols, index)\n",
        "\n",
        "# setando parâmetros do objeto ax1\n",
        "ax1.set_xlim([0.5, 4.5])\n",
        "ax1.set_ylim([-2, 8])\n",
        "\n",
        "ax1.set_title(\"Título do \\\"EIXOS\\\" 1\")\n",
        "\n",
        "ax1.set_ylabel(\"Rótulo do eixo Y\")\n",
        "ax1.set_xlabel(\"Rótulo do eixo X\")\n",
        "\n",
        "# --------------------------------------\n",
        "# criando outro objeto, mas no index 4 agora\n",
        "ax4 = fig.add_subplot(224)\n",
        "\n",
        "ax4.set_xlim([0.5, 4.5])\n",
        "ax4.set_ylim([-2, 8])\n",
        "\n",
        "ax4.set_title(\"Título do \\\"EIXOS\\\" 4\")\n",
        "\n",
        "ax4.set_ylabel(\"Rótulo do Y, eixos 4\")\n",
        "ax4.set_xlabel(\"Rótulo do X, eixos 4\")\n",
        "\n",
        "# --------------------------------------\n",
        "plt.show()"
      ],
      "execution_count": 0,
      "outputs": []
    },
    {
      "cell_type": "code",
      "metadata": {
        "colab_type": "code",
        "id": "PTwtEwWEp68W",
        "colab": {}
      },
      "source": [
        "import matplotlib.pyplot as plt\n",
        "\n",
        "# objeto figura\n",
        "fig = plt.figure()\n",
        "# eixos\n",
        "ax = fig.add_subplot(111)\n",
        "\n",
        "ax.plot([1, 2, 3, 4], [10, 20, 25, 30], color='lightblue', linewidth=3)\n",
        "ax.bar([1, 2, 3], [i*i for i in range(2, 5)], color='red', width=0.5)\n",
        "ax.scatter([0.3, 3.8, 1.2, 2.5], [11, 25, 9, 26], color='darkgreen', marker='^')\n",
        "# intervalo do eixo x\n",
        "ax.set_xlim(0.5, 4.5)\n",
        "\n",
        "plt.show()"
      ],
      "execution_count": 0,
      "outputs": []
    },
    {
      "cell_type": "code",
      "metadata": {
        "id": "75hcPFes2W-N",
        "colab_type": "code",
        "colab": {}
      },
      "source": [
        "import matplotlib.pyplot as plt\n",
        "\n",
        "plt.plot([1, 2, 3, 4], [10, 20, 25, 30], color='lightblue', linewidth=3)\n",
        "ax.bar([1, 2, 3], [i*i for i in range(2, 5)], color='red', width=0.5)\n",
        "plt.scatter([0.3, 3.8, 1.2, 2.5], [11, 25, 9, 26], color='darkgreen', marker='^')\n",
        "# %matplotlib\n",
        "plt.xlim(0.5, 4.5)\n",
        "plt.show()"
      ],
      "execution_count": 0,
      "outputs": []
    },
    {
      "cell_type": "markdown",
      "metadata": {
        "id": "c90VZipuj9s7",
        "colab_type": "text"
      },
      "source": [
        "## [Clique aqui para visualizar a galeria do Matplotlib](https://matplotlib.org/gallery/index.html)\n",
        "\n",
        "\n",
        " Obs: Existem também outras bibliotecas para criação de gráficos com Python, como por exemplo a Seaborn e a Plotly.\n"
      ]
    },
    {
      "cell_type": "markdown",
      "metadata": {
        "id": "mf3LL85R_yr3",
        "colab_type": "text"
      },
      "source": [
        "# Desafios:\n",
        "\n",
        "* Gerar"
      ]
    },
    {
      "cell_type": "code",
      "metadata": {
        "id": "lvC8XQ8w_5rq",
        "colab_type": "code",
        "colab": {}
      },
      "source": [
        ""
      ],
      "execution_count": 0,
      "outputs": []
    },
    {
      "cell_type": "markdown",
      "metadata": {
        "id": "Hs6tu_KudZDT",
        "colab_type": "text"
      },
      "source": [
        "<br/>\n",
        "<br/>\n",
        "<br/>\n",
        "<br/>\n",
        "\n",
        "![Python logo](https://www.python.org/static/community_logos/python-logo-generic.svg)\n",
        "# Onde aprender mais:\n",
        "* [Documentação do Python 3](https://docs.python.org/3/)\n",
        "---\n",
        "* Coursera - [Introdução à Ciência da Computação com Python - parte 01 - USP](https://pt.coursera.org/learn/ciencia-computacao-python-conceitos)\n",
        "* Coursera - [Introdução à Ciência da Computação com Python - parte 02 - USP](https://pt.coursera.org/learn/ciencia-computacao-python-conceitos-2)\n",
        "---\n",
        "* Youtube - [Curso em Vídeo - Python 3 - Mundo 01](https://www.youtube.com/playlist?list=PLHz_AreHm4dlKP6QQCekuIPky1CiwmdI6)\n",
        "* Youtube - [Curso em Vídeo - Python 3 - Mundo 02](https://www.youtube.com/playlist?list=PLHz_AreHm4dk_nZHmxxf_J0WRAqy5Czye)\n",
        "* Youtube - [Curso em Vídeo - Python 3 - Mundo 03](https://www.youtube.com/playlist?list=PLHz_AreHm4dksnH2jVTIVNviIMBVYyFnH)\n",
        "* Youtube - [Python 300](https://www.youtube.com/playlist?list=PL8eBmR3QtPL0j3QLEjQ6rcx8rVB8Ir893)\n",
        "* Youtube - [Python para Zumbis](https://www.youtube.com/playlist?list=PLUukMN0DTKCtbzhbYe2jdF4cr8MOWClXc)\n",
        "* Youtube - [Aulas Python - Ignorância Zero](https://www.youtube.com/playlist?list=PLfCKf0-awunOu2WyLe2pSD2fXUo795xRe)\n",
        "* Youtube - [Análise de Dados em Python - LabHacker](https://www.youtube.com/playlist?list=PLqiFjCF_dtcymXtdjwAP4s7tRoW4CYwnH)\n",
        "---\n",
        "* Telegram - [Live de Python](https://t.me/livepython)\n",
        "---\n",
        "* [GeeksForGeeks](https://www.geeksforgeeks.org/python-programming-language/)\n",
        "* [W3Schools](https://www.w3schools.com/python/)\n",
        "* [LearnPython](https://www.learnpython.org/)\n",
        "* [DataCamp](https://www.datacamp.com/courses/tech:python)\n",
        "* [TutorialsPoint](https://www.tutorialspoint.com/python)\n",
        "* [Apostila Python e Orientação à Objetos - Caelum](https://www.caelum.com.br/download/caelum-python-objetos-py14.pdf)\n",
        "* [PythonAcademy](https://pythonacademy.com.br)\n"
      ]
    }
  ]
}